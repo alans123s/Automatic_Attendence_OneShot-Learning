{
  "nbformat": 4,
  "nbformat_minor": 0,
  "metadata": {
    "colab": {
      "name": "Código_Fonte_Alan.pynb",
      "provenance": [],
      "collapsed_sections": [],
      "toc_visible": true,
      "include_colab_link": true
    },
    "kernelspec": {
      "name": "python3",
      "display_name": "Python 3"
    },
    "accelerator": "GPU"
  },
  "cells": [
    {
      "cell_type": "markdown",
      "metadata": {
        "id": "view-in-github",
        "colab_type": "text"
      },
      "source": [
        "<a href=\"https://colab.research.google.com/github/alans123s/Automatic_Attendence_OneShot-Learning/blob/main/C%C3%B3digo_Fonte_Alan_pynb.ipynb\" target=\"_parent\"><img src=\"https://colab.research.google.com/assets/colab-badge.svg\" alt=\"Open In Colab\"/></a>"
      ]
    },
    {
      "cell_type": "markdown",
      "metadata": {
        "id": "GnN_XWkDBIms"
      },
      "source": [
        "# Importações"
      ]
    },
    {
      "cell_type": "code",
      "metadata": {
        "id": "gCSudgeyBY7i",
        "colab": {
          "base_uri": "https://localhost:8080/"
        },
        "outputId": "58d39aa5-669d-47b9-866b-3a8c5f28205d"
      },
      "source": [
        "# @title Downloads - **RUN THIS**\n",
        "!pip install tensorflow-gpu\n",
        "!sudo pip install mtcnn\n"
      ],
      "execution_count": null,
      "outputs": [
        {
          "output_type": "stream",
          "text": [
            "Collecting tensorflow-gpu\n",
            "\u001b[?25l  Downloading https://files.pythonhosted.org/packages/85/cc/a27e73cf8b23f2ce4bdd2b7089a42a7819ce6dd7366dceba406ddc5daa9c/tensorflow_gpu-2.4.1-cp37-cp37m-manylinux2010_x86_64.whl (394.3MB)\n",
            "\u001b[K     |████████████████████████████████| 394.3MB 44kB/s \n",
            "\u001b[?25hRequirement already satisfied: google-pasta~=0.2 in /usr/local/lib/python3.7/dist-packages (from tensorflow-gpu) (0.2.0)\n",
            "Requirement already satisfied: six~=1.15.0 in /usr/local/lib/python3.7/dist-packages (from tensorflow-gpu) (1.15.0)\n",
            "Requirement already satisfied: wheel~=0.35 in /usr/local/lib/python3.7/dist-packages (from tensorflow-gpu) (0.36.2)\n",
            "Requirement already satisfied: wrapt~=1.12.1 in /usr/local/lib/python3.7/dist-packages (from tensorflow-gpu) (1.12.1)\n",
            "Requirement already satisfied: typing-extensions~=3.7.4 in /usr/local/lib/python3.7/dist-packages (from tensorflow-gpu) (3.7.4.3)\n",
            "Requirement already satisfied: tensorboard~=2.4 in /usr/local/lib/python3.7/dist-packages (from tensorflow-gpu) (2.4.1)\n",
            "Requirement already satisfied: opt-einsum~=3.3.0 in /usr/local/lib/python3.7/dist-packages (from tensorflow-gpu) (3.3.0)\n",
            "Requirement already satisfied: numpy~=1.19.2 in /usr/local/lib/python3.7/dist-packages (from tensorflow-gpu) (1.19.5)\n",
            "Requirement already satisfied: protobuf>=3.9.2 in /usr/local/lib/python3.7/dist-packages (from tensorflow-gpu) (3.12.4)\n",
            "Requirement already satisfied: termcolor~=1.1.0 in /usr/local/lib/python3.7/dist-packages (from tensorflow-gpu) (1.1.0)\n",
            "Requirement already satisfied: absl-py~=0.10 in /usr/local/lib/python3.7/dist-packages (from tensorflow-gpu) (0.12.0)\n",
            "Requirement already satisfied: flatbuffers~=1.12.0 in /usr/local/lib/python3.7/dist-packages (from tensorflow-gpu) (1.12)\n",
            "Requirement already satisfied: h5py~=2.10.0 in /usr/local/lib/python3.7/dist-packages (from tensorflow-gpu) (2.10.0)\n",
            "Requirement already satisfied: gast==0.3.3 in /usr/local/lib/python3.7/dist-packages (from tensorflow-gpu) (0.3.3)\n",
            "Requirement already satisfied: tensorflow-estimator<2.5.0,>=2.4.0 in /usr/local/lib/python3.7/dist-packages (from tensorflow-gpu) (2.4.0)\n",
            "Requirement already satisfied: astunparse~=1.6.3 in /usr/local/lib/python3.7/dist-packages (from tensorflow-gpu) (1.6.3)\n",
            "Requirement already satisfied: grpcio~=1.32.0 in /usr/local/lib/python3.7/dist-packages (from tensorflow-gpu) (1.32.0)\n",
            "Requirement already satisfied: keras-preprocessing~=1.1.2 in /usr/local/lib/python3.7/dist-packages (from tensorflow-gpu) (1.1.2)\n",
            "Requirement already satisfied: markdown>=2.6.8 in /usr/local/lib/python3.7/dist-packages (from tensorboard~=2.4->tensorflow-gpu) (3.3.4)\n",
            "Requirement already satisfied: werkzeug>=0.11.15 in /usr/local/lib/python3.7/dist-packages (from tensorboard~=2.4->tensorflow-gpu) (1.0.1)\n",
            "Requirement already satisfied: google-auth-oauthlib<0.5,>=0.4.1 in /usr/local/lib/python3.7/dist-packages (from tensorboard~=2.4->tensorflow-gpu) (0.4.3)\n",
            "Requirement already satisfied: tensorboard-plugin-wit>=1.6.0 in /usr/local/lib/python3.7/dist-packages (from tensorboard~=2.4->tensorflow-gpu) (1.8.0)\n",
            "Requirement already satisfied: setuptools>=41.0.0 in /usr/local/lib/python3.7/dist-packages (from tensorboard~=2.4->tensorflow-gpu) (54.2.0)\n",
            "Requirement already satisfied: requests<3,>=2.21.0 in /usr/local/lib/python3.7/dist-packages (from tensorboard~=2.4->tensorflow-gpu) (2.23.0)\n",
            "Requirement already satisfied: google-auth<2,>=1.6.3 in /usr/local/lib/python3.7/dist-packages (from tensorboard~=2.4->tensorflow-gpu) (1.28.0)\n",
            "Requirement already satisfied: importlib-metadata; python_version < \"3.8\" in /usr/local/lib/python3.7/dist-packages (from markdown>=2.6.8->tensorboard~=2.4->tensorflow-gpu) (3.8.1)\n",
            "Requirement already satisfied: requests-oauthlib>=0.7.0 in /usr/local/lib/python3.7/dist-packages (from google-auth-oauthlib<0.5,>=0.4.1->tensorboard~=2.4->tensorflow-gpu) (1.3.0)\n",
            "Requirement already satisfied: idna<3,>=2.5 in /usr/local/lib/python3.7/dist-packages (from requests<3,>=2.21.0->tensorboard~=2.4->tensorflow-gpu) (2.10)\n",
            "Requirement already satisfied: urllib3!=1.25.0,!=1.25.1,<1.26,>=1.21.1 in /usr/local/lib/python3.7/dist-packages (from requests<3,>=2.21.0->tensorboard~=2.4->tensorflow-gpu) (1.24.3)\n",
            "Requirement already satisfied: chardet<4,>=3.0.2 in /usr/local/lib/python3.7/dist-packages (from requests<3,>=2.21.0->tensorboard~=2.4->tensorflow-gpu) (3.0.4)\n",
            "Requirement already satisfied: certifi>=2017.4.17 in /usr/local/lib/python3.7/dist-packages (from requests<3,>=2.21.0->tensorboard~=2.4->tensorflow-gpu) (2020.12.5)\n",
            "Requirement already satisfied: rsa<5,>=3.1.4; python_version >= \"3.6\" in /usr/local/lib/python3.7/dist-packages (from google-auth<2,>=1.6.3->tensorboard~=2.4->tensorflow-gpu) (4.7.2)\n",
            "Requirement already satisfied: cachetools<5.0,>=2.0.0 in /usr/local/lib/python3.7/dist-packages (from google-auth<2,>=1.6.3->tensorboard~=2.4->tensorflow-gpu) (4.2.1)\n",
            "Requirement already satisfied: pyasn1-modules>=0.2.1 in /usr/local/lib/python3.7/dist-packages (from google-auth<2,>=1.6.3->tensorboard~=2.4->tensorflow-gpu) (0.2.8)\n",
            "Requirement already satisfied: zipp>=0.5 in /usr/local/lib/python3.7/dist-packages (from importlib-metadata; python_version < \"3.8\"->markdown>=2.6.8->tensorboard~=2.4->tensorflow-gpu) (3.4.1)\n",
            "Requirement already satisfied: oauthlib>=3.0.0 in /usr/local/lib/python3.7/dist-packages (from requests-oauthlib>=0.7.0->google-auth-oauthlib<0.5,>=0.4.1->tensorboard~=2.4->tensorflow-gpu) (3.1.0)\n",
            "Requirement already satisfied: pyasn1>=0.1.3 in /usr/local/lib/python3.7/dist-packages (from rsa<5,>=3.1.4; python_version >= \"3.6\"->google-auth<2,>=1.6.3->tensorboard~=2.4->tensorflow-gpu) (0.4.8)\n",
            "Installing collected packages: tensorflow-gpu\n",
            "Successfully installed tensorflow-gpu-2.4.1\n",
            "Collecting mtcnn\n",
            "\u001b[?25l  Downloading https://files.pythonhosted.org/packages/67/43/abee91792797c609c1bf30f1112117f7a87a713ebaa6ec5201d5555a73ef/mtcnn-0.1.0-py3-none-any.whl (2.3MB)\n",
            "\u001b[K     |████████████████████████████████| 2.3MB 5.2MB/s \n",
            "\u001b[?25hRequirement already satisfied: keras>=2.0.0 in /usr/local/lib/python3.7/dist-packages (from mtcnn) (2.4.3)\n",
            "Requirement already satisfied: opencv-python>=4.1.0 in /usr/local/lib/python3.7/dist-packages (from mtcnn) (4.1.2.30)\n",
            "Requirement already satisfied: scipy>=0.14 in /usr/local/lib/python3.7/dist-packages (from keras>=2.0.0->mtcnn) (1.4.1)\n",
            "Requirement already satisfied: pyyaml in /usr/local/lib/python3.7/dist-packages (from keras>=2.0.0->mtcnn) (3.13)\n",
            "Requirement already satisfied: h5py in /usr/local/lib/python3.7/dist-packages (from keras>=2.0.0->mtcnn) (2.10.0)\n",
            "Requirement already satisfied: numpy>=1.9.1 in /usr/local/lib/python3.7/dist-packages (from keras>=2.0.0->mtcnn) (1.19.5)\n",
            "Requirement already satisfied: six in /usr/local/lib/python3.7/dist-packages (from h5py->keras>=2.0.0->mtcnn) (1.15.0)\n",
            "Installing collected packages: mtcnn\n",
            "Successfully installed mtcnn-0.1.0\n"
          ],
          "name": "stdout"
        }
      ]
    },
    {
      "cell_type": "code",
      "metadata": {
        "id": "TGRNIce_BMpK",
        "colab": {
          "base_uri": "https://localhost:8080/"
        },
        "outputId": "3a973fd7-b2a6-4006-cc3a-fe5e4b4bf682"
      },
      "source": [
        "import matplotlib.pyplot as plt\n",
        "from PIL import Image\n",
        "import numpy as np\n",
        "import matplotlib.pyplot as plt\n",
        "from numpy import asarray\n",
        "from mtcnn.mtcnn import MTCNN\n",
        "import os\n",
        "from skimage import io\n",
        "import pandas as pd\n",
        "from tqdm import tqdm\n",
        "\n",
        "try:\n",
        "    # %tensorflow_version only exists in Colab.\n",
        "    %tensorflow_version 2.x\n",
        "    !apt update && apt install -y libpq-dev libsdl2-dev swig xorg-dev xvfb\n",
        "    !pip install -q -U tf-agents pyvirtualdisplay gym[atari,box2d]\n",
        "    IS_COLAB = True\n",
        "except Exception:\n",
        "    IS_COLAB = False\n",
        "\n",
        "# TensorFlow ≥2.0 is required\n",
        "import tensorflow as tf\n",
        "from tensorflow import keras\n",
        "assert tf.__version__ >= \"2.0\"\n",
        "\n",
        "if not tf.config.list_physical_devices('GPU'):\n",
        "    print(\"No GPU was detected. CNNs can be very slow without a GPU.\")\n",
        "    if IS_COLAB:\n",
        "        print(\"Go to Runtime > Change runtime and select a GPU hardware accelerator.\")\n",
        "        \n",
        "import keras\n",
        "from keras.models import load_model\n",
        "from google.colab import drive"
      ],
      "execution_count": null,
      "outputs": [
        {
          "output_type": "stream",
          "text": [
            "Ign:1 https://developer.download.nvidia.com/compute/cuda/repos/ubuntu1804/x86_64  InRelease\n",
            "Get:2 http://security.ubuntu.com/ubuntu bionic-security InRelease [88.7 kB]\n",
            "Ign:3 https://developer.download.nvidia.com/compute/machine-learning/repos/ubuntu1804/x86_64  InRelease\n",
            "Hit:4 https://developer.download.nvidia.com/compute/cuda/repos/ubuntu1804/x86_64  Release\n",
            "Get:5 http://ppa.launchpad.net/c2d4u.team/c2d4u4.0+/ubuntu bionic InRelease [15.9 kB]\n",
            "Hit:6 https://developer.download.nvidia.com/compute/machine-learning/repos/ubuntu1804/x86_64  Release\n",
            "Get:7 https://cloud.r-project.org/bin/linux/ubuntu bionic-cran40/ InRelease [3,626 B]\n",
            "Hit:8 http://archive.ubuntu.com/ubuntu bionic InRelease\n",
            "Get:10 http://archive.ubuntu.com/ubuntu bionic-updates InRelease [88.7 kB]\n",
            "Hit:12 http://ppa.launchpad.net/cran/libgit2/ubuntu bionic InRelease\n",
            "Get:13 http://ppa.launchpad.net/deadsnakes/ppa/ubuntu bionic InRelease [15.9 kB]\n",
            "Get:14 http://archive.ubuntu.com/ubuntu bionic-backports InRelease [74.6 kB]\n",
            "Hit:15 http://ppa.launchpad.net/graphics-drivers/ppa/ubuntu bionic InRelease\n",
            "Get:16 http://archive.ubuntu.com/ubuntu bionic-updates/main amd64 Packages [2,507 kB]\n",
            "Get:17 http://ppa.launchpad.net/c2d4u.team/c2d4u4.0+/ubuntu bionic/main Sources [1,751 kB]\n",
            "Get:18 http://archive.ubuntu.com/ubuntu bionic-updates/universe amd64 Packages [2,175 kB]\n",
            "Get:19 http://archive.ubuntu.com/ubuntu bionic-updates/restricted amd64 Packages [402 kB]\n",
            "Get:20 http://ppa.launchpad.net/c2d4u.team/c2d4u4.0+/ubuntu bionic/main amd64 Packages [896 kB]\n",
            "Get:21 http://ppa.launchpad.net/deadsnakes/ppa/ubuntu bionic/main amd64 Packages [39.5 kB]\n",
            "Fetched 8,057 kB in 7s (1,136 kB/s)\n",
            "Reading package lists... Done\n",
            "Building dependency tree       \n",
            "Reading state information... Done\n",
            "35 packages can be upgraded. Run 'apt list --upgradable' to see them.\n",
            "Reading package lists... Done\n",
            "Building dependency tree       \n",
            "Reading state information... Done\n",
            "libpq-dev is already the newest version (10.16-0ubuntu0.18.04.1).\n",
            "libpq-dev set to manually installed.\n",
            "The following additional packages will be installed:\n",
            "  gir1.2-ibus-1.0 libcapnp-0.6.1 libdbus-1-dev libdmx-dev libdmx1\n",
            "  libfontenc-dev libfs-dev libfs6 libibus-1.0-5 libibus-1.0-dev\n",
            "  libmirclient-dev libmirclient9 libmircommon-dev libmircommon7\n",
            "  libmircookie-dev libmircookie2 libmircore-dev libmircore1 libmirprotobuf3\n",
            "  libpciaccess-dev libpixman-1-dev libprotobuf-dev libprotobuf-lite10\n",
            "  libpulse-dev libpulse-mainloop-glib0 libsndio-dev libudev-dev libxaw7-dev\n",
            "  libxcomposite-dev libxcursor-dev libxfont-dev libxinerama-dev\n",
            "  libxkbcommon-dev libxkbfile-dev libxmuu-dev libxpm-dev libxrandr-dev\n",
            "  libxres-dev libxres1 libxtst-dev libxv-dev libxvmc-dev libxvmc1\n",
            "  libxxf86dga-dev libxxf86dga1 mir-client-platform-mesa-dev swig3.0\n",
            "  x11proto-composite-dev x11proto-dri2-dev x11proto-fonts-dev x11proto-gl-dev\n",
            "  x11proto-randr-dev x11proto-record-dev x11proto-render-dev\n",
            "  x11proto-resource-dev x11proto-xf86bigfont-dev x11proto-xf86dga-dev\n",
            "  x11proto-xinerama-dev xserver-xorg-dev\n",
            "Suggested packages:\n",
            "  libxaw-doc swig-doc swig-examples swig3.0-examples swig3.0-doc\n",
            "The following NEW packages will be installed:\n",
            "  gir1.2-ibus-1.0 libcapnp-0.6.1 libdbus-1-dev libdmx-dev libdmx1\n",
            "  libfontenc-dev libfs-dev libfs6 libibus-1.0-5 libibus-1.0-dev\n",
            "  libmirclient-dev libmirclient9 libmircommon-dev libmircommon7\n",
            "  libmircookie-dev libmircookie2 libmircore-dev libmircore1 libmirprotobuf3\n",
            "  libpciaccess-dev libpixman-1-dev libprotobuf-dev libprotobuf-lite10\n",
            "  libpulse-dev libpulse-mainloop-glib0 libsdl2-dev libsndio-dev libudev-dev\n",
            "  libxaw7-dev libxcomposite-dev libxcursor-dev libxfont-dev libxinerama-dev\n",
            "  libxkbcommon-dev libxkbfile-dev libxmuu-dev libxpm-dev libxrandr-dev\n",
            "  libxres-dev libxres1 libxtst-dev libxv-dev libxvmc-dev libxvmc1\n",
            "  libxxf86dga-dev libxxf86dga1 mir-client-platform-mesa-dev swig swig3.0\n",
            "  x11proto-composite-dev x11proto-dri2-dev x11proto-fonts-dev x11proto-gl-dev\n",
            "  x11proto-randr-dev x11proto-record-dev x11proto-render-dev\n",
            "  x11proto-resource-dev x11proto-xf86bigfont-dev x11proto-xf86dga-dev\n",
            "  x11proto-xinerama-dev xorg-dev xserver-xorg-dev xvfb\n",
            "0 upgraded, 63 newly installed, 0 to remove and 35 not upgraded.\n",
            "Need to get 6,943 kB of archives.\n",
            "After this operation, 38.5 MB of additional disk space will be used.\n",
            "Get:1 http://archive.ubuntu.com/ubuntu bionic/main amd64 libdmx1 amd64 1:1.1.3-1 [10.4 kB]\n",
            "Get:2 http://archive.ubuntu.com/ubuntu bionic/main amd64 libxxf86dga1 amd64 2:1.1.4-1 [13.7 kB]\n",
            "Get:3 http://archive.ubuntu.com/ubuntu bionic-updates/main amd64 libibus-1.0-5 amd64 1.5.17-3ubuntu5.3 [133 kB]\n",
            "Get:4 http://archive.ubuntu.com/ubuntu bionic-updates/main amd64 gir1.2-ibus-1.0 amd64 1.5.17-3ubuntu5.3 [66.5 kB]\n",
            "Get:5 http://archive.ubuntu.com/ubuntu bionic/main amd64 libcapnp-0.6.1 amd64 0.6.1-1ubuntu1 [658 kB]\n",
            "Get:6 http://archive.ubuntu.com/ubuntu bionic-updates/main amd64 libdbus-1-dev amd64 1.12.2-1ubuntu1.2 [165 kB]\n",
            "Get:7 http://archive.ubuntu.com/ubuntu bionic/main amd64 libdmx-dev amd64 1:1.1.3-1 [34.4 kB]\n",
            "Get:8 http://archive.ubuntu.com/ubuntu bionic/main amd64 libfontenc-dev amd64 1:1.1.3-1 [13.8 kB]\n",
            "Get:9 http://archive.ubuntu.com/ubuntu bionic/main amd64 libfs6 amd64 2:1.0.7-1 [22.5 kB]\n",
            "Get:10 http://archive.ubuntu.com/ubuntu bionic/main amd64 x11proto-fonts-dev all 2018.4-4 [2,620 B]\n",
            "Get:11 http://archive.ubuntu.com/ubuntu bionic/main amd64 libfs-dev amd64 2:1.0.7-1 [26.8 kB]\n",
            "Get:12 http://archive.ubuntu.com/ubuntu bionic-updates/main amd64 libibus-1.0-dev amd64 1.5.17-3ubuntu5.3 [145 kB]\n",
            "Get:13 http://archive.ubuntu.com/ubuntu bionic/main amd64 libmircore1 amd64 0.31.1-0ubuntu1 [26.5 kB]\n",
            "Get:14 http://archive.ubuntu.com/ubuntu bionic/main amd64 libmircommon7 amd64 0.31.1-0ubuntu1 [73.9 kB]\n",
            "Get:15 http://archive.ubuntu.com/ubuntu bionic/main amd64 libprotobuf-lite10 amd64 3.0.0-9.1ubuntu1 [97.7 kB]\n",
            "Get:16 http://archive.ubuntu.com/ubuntu bionic/main amd64 libmirprotobuf3 amd64 0.31.1-0ubuntu1 [127 kB]\n",
            "Get:17 http://archive.ubuntu.com/ubuntu bionic/main amd64 libmirclient9 amd64 0.31.1-0ubuntu1 [199 kB]\n",
            "Get:18 http://archive.ubuntu.com/ubuntu bionic/main amd64 libmircore-dev amd64 0.31.1-0ubuntu1 [21.7 kB]\n",
            "Get:19 http://archive.ubuntu.com/ubuntu bionic/main amd64 libprotobuf-dev amd64 3.0.0-9.1ubuntu1 [959 kB]\n",
            "Get:20 http://archive.ubuntu.com/ubuntu bionic-updates/main amd64 libxkbcommon-dev amd64 0.8.2-1~ubuntu18.04.1 [150 kB]\n",
            "Get:21 http://archive.ubuntu.com/ubuntu bionic/main amd64 libmircommon-dev amd64 0.31.1-0ubuntu1 [13.9 kB]\n",
            "Get:22 http://archive.ubuntu.com/ubuntu bionic/main amd64 libmircookie2 amd64 0.31.1-0ubuntu1 [19.7 kB]\n",
            "Get:23 http://archive.ubuntu.com/ubuntu bionic/main amd64 libmircookie-dev amd64 0.31.1-0ubuntu1 [4,392 B]\n",
            "Get:24 http://archive.ubuntu.com/ubuntu bionic/main amd64 libmirclient-dev amd64 0.31.1-0ubuntu1 [47.8 kB]\n",
            "Get:25 http://archive.ubuntu.com/ubuntu bionic/main amd64 libpixman-1-dev amd64 0.34.0-2 [244 kB]\n",
            "Get:26 http://archive.ubuntu.com/ubuntu bionic-updates/main amd64 libpulse-mainloop-glib0 amd64 1:11.1-1ubuntu7.11 [22.1 kB]\n",
            "Get:27 http://archive.ubuntu.com/ubuntu bionic-updates/main amd64 libpulse-dev amd64 1:11.1-1ubuntu7.11 [81.5 kB]\n",
            "Get:28 http://archive.ubuntu.com/ubuntu bionic/universe amd64 libsndio-dev amd64 1.1.0-3 [13.3 kB]\n",
            "Get:29 http://archive.ubuntu.com/ubuntu bionic-updates/main amd64 libudev-dev amd64 237-3ubuntu10.45 [19.1 kB]\n",
            "Get:30 http://archive.ubuntu.com/ubuntu bionic/main amd64 libxcursor-dev amd64 1:1.1.15-1 [26.5 kB]\n",
            "Get:31 http://archive.ubuntu.com/ubuntu bionic/main amd64 x11proto-xinerama-dev all 2018.4-4 [2,628 B]\n",
            "Get:32 http://archive.ubuntu.com/ubuntu bionic/main amd64 libxinerama-dev amd64 2:1.1.3-1 [8,404 B]\n",
            "Get:33 http://archive.ubuntu.com/ubuntu bionic/main amd64 x11proto-randr-dev all 2018.4-4 [2,620 B]\n",
            "Get:34 http://archive.ubuntu.com/ubuntu bionic/main amd64 libxrandr-dev amd64 2:1.5.1-1 [24.0 kB]\n",
            "Get:35 http://archive.ubuntu.com/ubuntu bionic/main amd64 libxv-dev amd64 2:1.0.11-1 [32.5 kB]\n",
            "Get:36 http://archive.ubuntu.com/ubuntu bionic-updates/universe amd64 libsdl2-dev amd64 2.0.8+dfsg1-1ubuntu1.18.04.4 [683 kB]\n",
            "Get:37 http://archive.ubuntu.com/ubuntu bionic/main amd64 libxpm-dev amd64 1:3.5.12-1 [87.4 kB]\n",
            "Get:38 http://archive.ubuntu.com/ubuntu bionic/main amd64 libxaw7-dev amd64 2:1.0.13-1 [231 kB]\n",
            "Get:39 http://archive.ubuntu.com/ubuntu bionic/main amd64 x11proto-composite-dev all 1:2018.4-4 [2,620 B]\n",
            "Get:40 http://archive.ubuntu.com/ubuntu bionic/main amd64 libxcomposite-dev amd64 1:0.4.4-2 [9,136 B]\n",
            "Get:41 http://archive.ubuntu.com/ubuntu bionic/main amd64 libxfont-dev amd64 1:2.0.3-1 [118 kB]\n",
            "Get:42 http://archive.ubuntu.com/ubuntu bionic/main amd64 libxkbfile-dev amd64 1:1.0.9-2 [74.3 kB]\n",
            "Get:43 http://archive.ubuntu.com/ubuntu bionic/main amd64 libxmuu-dev amd64 2:1.1.2-2 [7,056 B]\n",
            "Get:44 http://archive.ubuntu.com/ubuntu bionic/main amd64 libxres1 amd64 2:1.2.0-2 [7,716 B]\n",
            "Get:45 http://archive.ubuntu.com/ubuntu bionic/main amd64 x11proto-resource-dev all 2018.4-4 [2,620 B]\n",
            "Get:46 http://archive.ubuntu.com/ubuntu bionic/main amd64 libxres-dev amd64 2:1.2.0-2 [8,136 B]\n",
            "Get:47 http://archive.ubuntu.com/ubuntu bionic/main amd64 x11proto-record-dev all 2018.4-4 [2,620 B]\n",
            "Get:48 http://archive.ubuntu.com/ubuntu bionic/main amd64 libxtst-dev amd64 2:1.2.3-1 [15.2 kB]\n",
            "Get:49 http://archive.ubuntu.com/ubuntu bionic/main amd64 libxvmc1 amd64 2:1.0.10-1 [13.7 kB]\n",
            "Get:50 http://archive.ubuntu.com/ubuntu bionic/main amd64 libxvmc-dev amd64 2:1.0.10-1 [21.3 kB]\n",
            "Get:51 http://archive.ubuntu.com/ubuntu bionic/main amd64 x11proto-xf86dga-dev all 2018.4-4 [2,624 B]\n",
            "Get:52 http://archive.ubuntu.com/ubuntu bionic/main amd64 libxxf86dga-dev amd64 2:1.1.4-1 [17.6 kB]\n",
            "Get:53 http://archive.ubuntu.com/ubuntu bionic/main amd64 mir-client-platform-mesa-dev amd64 0.31.1-0ubuntu1 [11.0 kB]\n",
            "Get:54 http://archive.ubuntu.com/ubuntu bionic/universe amd64 swig3.0 amd64 3.0.12-1 [1,094 kB]\n",
            "Get:55 http://archive.ubuntu.com/ubuntu bionic/universe amd64 swig amd64 3.0.12-1 [6,460 B]\n",
            "Get:56 http://archive.ubuntu.com/ubuntu bionic/main amd64 x11proto-dri2-dev all 2018.4-4 [2,620 B]\n",
            "Get:57 http://archive.ubuntu.com/ubuntu bionic/main amd64 x11proto-gl-dev all 2018.4-4 [2,612 B]\n",
            "Get:58 http://archive.ubuntu.com/ubuntu bionic/main amd64 x11proto-render-dev all 2:2018.4-4 [2,620 B]\n",
            "Get:59 http://archive.ubuntu.com/ubuntu bionic/main amd64 x11proto-xf86bigfont-dev all 2018.4-4 [2,628 B]\n",
            "Get:60 http://archive.ubuntu.com/ubuntu bionic/main amd64 libpciaccess-dev amd64 0.14-1 [20.2 kB]\n",
            "Get:61 http://archive.ubuntu.com/ubuntu bionic-updates/main amd64 xserver-xorg-dev amd64 2:1.19.6-1ubuntu4.8 [198 kB]\n",
            "Get:62 http://archive.ubuntu.com/ubuntu bionic-updates/main amd64 xorg-dev all 1:7.7+19ubuntu7.1 [4,300 B]\n",
            "Get:63 http://archive.ubuntu.com/ubuntu bionic-updates/universe amd64 xvfb amd64 2:1.19.6-1ubuntu4.8 [784 kB]\n",
            "Fetched 6,943 kB in 6s (1,257 kB/s)\n",
            "Extracting templates from packages: 100%\n",
            "Selecting previously unselected package libdmx1:amd64.\n",
            "(Reading database ... 160983 files and directories currently installed.)\n",
            "Preparing to unpack .../00-libdmx1_1%3a1.1.3-1_amd64.deb ...\n",
            "Unpacking libdmx1:amd64 (1:1.1.3-1) ...\n",
            "Selecting previously unselected package libxxf86dga1:amd64.\n",
            "Preparing to unpack .../01-libxxf86dga1_2%3a1.1.4-1_amd64.deb ...\n",
            "Unpacking libxxf86dga1:amd64 (2:1.1.4-1) ...\n",
            "Selecting previously unselected package libibus-1.0-5:amd64.\n",
            "Preparing to unpack .../02-libibus-1.0-5_1.5.17-3ubuntu5.3_amd64.deb ...\n",
            "Unpacking libibus-1.0-5:amd64 (1.5.17-3ubuntu5.3) ...\n",
            "Selecting previously unselected package gir1.2-ibus-1.0:amd64.\n",
            "Preparing to unpack .../03-gir1.2-ibus-1.0_1.5.17-3ubuntu5.3_amd64.deb ...\n",
            "Unpacking gir1.2-ibus-1.0:amd64 (1.5.17-3ubuntu5.3) ...\n",
            "Selecting previously unselected package libcapnp-0.6.1:amd64.\n",
            "Preparing to unpack .../04-libcapnp-0.6.1_0.6.1-1ubuntu1_amd64.deb ...\n",
            "Unpacking libcapnp-0.6.1:amd64 (0.6.1-1ubuntu1) ...\n",
            "Selecting previously unselected package libdbus-1-dev:amd64.\n",
            "Preparing to unpack .../05-libdbus-1-dev_1.12.2-1ubuntu1.2_amd64.deb ...\n",
            "Unpacking libdbus-1-dev:amd64 (1.12.2-1ubuntu1.2) ...\n",
            "Selecting previously unselected package libdmx-dev:amd64.\n",
            "Preparing to unpack .../06-libdmx-dev_1%3a1.1.3-1_amd64.deb ...\n",
            "Unpacking libdmx-dev:amd64 (1:1.1.3-1) ...\n",
            "Selecting previously unselected package libfontenc-dev:amd64.\n",
            "Preparing to unpack .../07-libfontenc-dev_1%3a1.1.3-1_amd64.deb ...\n",
            "Unpacking libfontenc-dev:amd64 (1:1.1.3-1) ...\n",
            "Selecting previously unselected package libfs6:amd64.\n",
            "Preparing to unpack .../08-libfs6_2%3a1.0.7-1_amd64.deb ...\n",
            "Unpacking libfs6:amd64 (2:1.0.7-1) ...\n",
            "Selecting previously unselected package x11proto-fonts-dev.\n",
            "Preparing to unpack .../09-x11proto-fonts-dev_2018.4-4_all.deb ...\n",
            "Unpacking x11proto-fonts-dev (2018.4-4) ...\n",
            "Selecting previously unselected package libfs-dev:amd64.\n",
            "Preparing to unpack .../10-libfs-dev_2%3a1.0.7-1_amd64.deb ...\n",
            "Unpacking libfs-dev:amd64 (2:1.0.7-1) ...\n",
            "Selecting previously unselected package libibus-1.0-dev:amd64.\n",
            "Preparing to unpack .../11-libibus-1.0-dev_1.5.17-3ubuntu5.3_amd64.deb ...\n",
            "Unpacking libibus-1.0-dev:amd64 (1.5.17-3ubuntu5.3) ...\n",
            "Selecting previously unselected package libmircore1:amd64.\n",
            "Preparing to unpack .../12-libmircore1_0.31.1-0ubuntu1_amd64.deb ...\n",
            "Unpacking libmircore1:amd64 (0.31.1-0ubuntu1) ...\n",
            "Selecting previously unselected package libmircommon7:amd64.\n",
            "Preparing to unpack .../13-libmircommon7_0.31.1-0ubuntu1_amd64.deb ...\n",
            "Unpacking libmircommon7:amd64 (0.31.1-0ubuntu1) ...\n",
            "Selecting previously unselected package libprotobuf-lite10:amd64.\n",
            "Preparing to unpack .../14-libprotobuf-lite10_3.0.0-9.1ubuntu1_amd64.deb ...\n",
            "Unpacking libprotobuf-lite10:amd64 (3.0.0-9.1ubuntu1) ...\n",
            "Selecting previously unselected package libmirprotobuf3:amd64.\n",
            "Preparing to unpack .../15-libmirprotobuf3_0.31.1-0ubuntu1_amd64.deb ...\n",
            "Unpacking libmirprotobuf3:amd64 (0.31.1-0ubuntu1) ...\n",
            "Selecting previously unselected package libmirclient9:amd64.\n",
            "Preparing to unpack .../16-libmirclient9_0.31.1-0ubuntu1_amd64.deb ...\n",
            "Unpacking libmirclient9:amd64 (0.31.1-0ubuntu1) ...\n",
            "Selecting previously unselected package libmircore-dev:amd64.\n",
            "Preparing to unpack .../17-libmircore-dev_0.31.1-0ubuntu1_amd64.deb ...\n",
            "Unpacking libmircore-dev:amd64 (0.31.1-0ubuntu1) ...\n",
            "Selecting previously unselected package libprotobuf-dev:amd64.\n",
            "Preparing to unpack .../18-libprotobuf-dev_3.0.0-9.1ubuntu1_amd64.deb ...\n",
            "Unpacking libprotobuf-dev:amd64 (3.0.0-9.1ubuntu1) ...\n",
            "Selecting previously unselected package libxkbcommon-dev:amd64.\n",
            "Preparing to unpack .../19-libxkbcommon-dev_0.8.2-1~ubuntu18.04.1_amd64.deb ...\n",
            "Unpacking libxkbcommon-dev:amd64 (0.8.2-1~ubuntu18.04.1) ...\n",
            "Selecting previously unselected package libmircommon-dev:amd64.\n",
            "Preparing to unpack .../20-libmircommon-dev_0.31.1-0ubuntu1_amd64.deb ...\n",
            "Unpacking libmircommon-dev:amd64 (0.31.1-0ubuntu1) ...\n",
            "Selecting previously unselected package libmircookie2:amd64.\n",
            "Preparing to unpack .../21-libmircookie2_0.31.1-0ubuntu1_amd64.deb ...\n",
            "Unpacking libmircookie2:amd64 (0.31.1-0ubuntu1) ...\n",
            "Selecting previously unselected package libmircookie-dev:amd64.\n",
            "Preparing to unpack .../22-libmircookie-dev_0.31.1-0ubuntu1_amd64.deb ...\n",
            "Unpacking libmircookie-dev:amd64 (0.31.1-0ubuntu1) ...\n",
            "Selecting previously unselected package libmirclient-dev:amd64.\n",
            "Preparing to unpack .../23-libmirclient-dev_0.31.1-0ubuntu1_amd64.deb ...\n",
            "Unpacking libmirclient-dev:amd64 (0.31.1-0ubuntu1) ...\n",
            "Selecting previously unselected package libpixman-1-dev:amd64.\n",
            "Preparing to unpack .../24-libpixman-1-dev_0.34.0-2_amd64.deb ...\n",
            "Unpacking libpixman-1-dev:amd64 (0.34.0-2) ...\n",
            "Selecting previously unselected package libpulse-mainloop-glib0:amd64.\n",
            "Preparing to unpack .../25-libpulse-mainloop-glib0_1%3a11.1-1ubuntu7.11_amd64.deb ...\n",
            "Unpacking libpulse-mainloop-glib0:amd64 (1:11.1-1ubuntu7.11) ...\n",
            "Selecting previously unselected package libpulse-dev:amd64.\n",
            "Preparing to unpack .../26-libpulse-dev_1%3a11.1-1ubuntu7.11_amd64.deb ...\n",
            "Unpacking libpulse-dev:amd64 (1:11.1-1ubuntu7.11) ...\n",
            "Selecting previously unselected package libsndio-dev:amd64.\n",
            "Preparing to unpack .../27-libsndio-dev_1.1.0-3_amd64.deb ...\n",
            "Unpacking libsndio-dev:amd64 (1.1.0-3) ...\n",
            "Selecting previously unselected package libudev-dev:amd64.\n",
            "Preparing to unpack .../28-libudev-dev_237-3ubuntu10.45_amd64.deb ...\n",
            "Unpacking libudev-dev:amd64 (237-3ubuntu10.45) ...\n",
            "Selecting previously unselected package libxcursor-dev:amd64.\n",
            "Preparing to unpack .../29-libxcursor-dev_1%3a1.1.15-1_amd64.deb ...\n",
            "Unpacking libxcursor-dev:amd64 (1:1.1.15-1) ...\n",
            "Selecting previously unselected package x11proto-xinerama-dev.\n",
            "Preparing to unpack .../30-x11proto-xinerama-dev_2018.4-4_all.deb ...\n",
            "Unpacking x11proto-xinerama-dev (2018.4-4) ...\n",
            "Selecting previously unselected package libxinerama-dev:amd64.\n",
            "Preparing to unpack .../31-libxinerama-dev_2%3a1.1.3-1_amd64.deb ...\n",
            "Unpacking libxinerama-dev:amd64 (2:1.1.3-1) ...\n",
            "Selecting previously unselected package x11proto-randr-dev.\n",
            "Preparing to unpack .../32-x11proto-randr-dev_2018.4-4_all.deb ...\n",
            "Unpacking x11proto-randr-dev (2018.4-4) ...\n",
            "Selecting previously unselected package libxrandr-dev:amd64.\n",
            "Preparing to unpack .../33-libxrandr-dev_2%3a1.5.1-1_amd64.deb ...\n",
            "Unpacking libxrandr-dev:amd64 (2:1.5.1-1) ...\n",
            "Selecting previously unselected package libxv-dev:amd64.\n",
            "Preparing to unpack .../34-libxv-dev_2%3a1.0.11-1_amd64.deb ...\n",
            "Unpacking libxv-dev:amd64 (2:1.0.11-1) ...\n",
            "Selecting previously unselected package libsdl2-dev:amd64.\n",
            "Preparing to unpack .../35-libsdl2-dev_2.0.8+dfsg1-1ubuntu1.18.04.4_amd64.deb ...\n",
            "Unpacking libsdl2-dev:amd64 (2.0.8+dfsg1-1ubuntu1.18.04.4) ...\n",
            "Selecting previously unselected package libxpm-dev:amd64.\n",
            "Preparing to unpack .../36-libxpm-dev_1%3a3.5.12-1_amd64.deb ...\n",
            "Unpacking libxpm-dev:amd64 (1:3.5.12-1) ...\n",
            "Selecting previously unselected package libxaw7-dev:amd64.\n",
            "Preparing to unpack .../37-libxaw7-dev_2%3a1.0.13-1_amd64.deb ...\n",
            "Unpacking libxaw7-dev:amd64 (2:1.0.13-1) ...\n",
            "Selecting previously unselected package x11proto-composite-dev.\n",
            "Preparing to unpack .../38-x11proto-composite-dev_1%3a2018.4-4_all.deb ...\n",
            "Unpacking x11proto-composite-dev (1:2018.4-4) ...\n",
            "Selecting previously unselected package libxcomposite-dev:amd64.\n",
            "Preparing to unpack .../39-libxcomposite-dev_1%3a0.4.4-2_amd64.deb ...\n",
            "Unpacking libxcomposite-dev:amd64 (1:0.4.4-2) ...\n",
            "Selecting previously unselected package libxfont-dev.\n",
            "Preparing to unpack .../40-libxfont-dev_1%3a2.0.3-1_amd64.deb ...\n",
            "Unpacking libxfont-dev (1:2.0.3-1) ...\n",
            "Selecting previously unselected package libxkbfile-dev:amd64.\n",
            "Preparing to unpack .../41-libxkbfile-dev_1%3a1.0.9-2_amd64.deb ...\n",
            "Unpacking libxkbfile-dev:amd64 (1:1.0.9-2) ...\n",
            "Selecting previously unselected package libxmuu-dev:amd64.\n",
            "Preparing to unpack .../42-libxmuu-dev_2%3a1.1.2-2_amd64.deb ...\n",
            "Unpacking libxmuu-dev:amd64 (2:1.1.2-2) ...\n",
            "Selecting previously unselected package libxres1:amd64.\n",
            "Preparing to unpack .../43-libxres1_2%3a1.2.0-2_amd64.deb ...\n",
            "Unpacking libxres1:amd64 (2:1.2.0-2) ...\n",
            "Selecting previously unselected package x11proto-resource-dev.\n",
            "Preparing to unpack .../44-x11proto-resource-dev_2018.4-4_all.deb ...\n",
            "Unpacking x11proto-resource-dev (2018.4-4) ...\n",
            "Selecting previously unselected package libxres-dev.\n",
            "Preparing to unpack .../45-libxres-dev_2%3a1.2.0-2_amd64.deb ...\n",
            "Unpacking libxres-dev (2:1.2.0-2) ...\n",
            "Selecting previously unselected package x11proto-record-dev.\n",
            "Preparing to unpack .../46-x11proto-record-dev_2018.4-4_all.deb ...\n",
            "Unpacking x11proto-record-dev (2018.4-4) ...\n",
            "Selecting previously unselected package libxtst-dev:amd64.\n",
            "Preparing to unpack .../47-libxtst-dev_2%3a1.2.3-1_amd64.deb ...\n",
            "Unpacking libxtst-dev:amd64 (2:1.2.3-1) ...\n",
            "Selecting previously unselected package libxvmc1:amd64.\n",
            "Preparing to unpack .../48-libxvmc1_2%3a1.0.10-1_amd64.deb ...\n",
            "Unpacking libxvmc1:amd64 (2:1.0.10-1) ...\n",
            "Selecting previously unselected package libxvmc-dev:amd64.\n",
            "Preparing to unpack .../49-libxvmc-dev_2%3a1.0.10-1_amd64.deb ...\n",
            "Unpacking libxvmc-dev:amd64 (2:1.0.10-1) ...\n",
            "Selecting previously unselected package x11proto-xf86dga-dev.\n",
            "Preparing to unpack .../50-x11proto-xf86dga-dev_2018.4-4_all.deb ...\n",
            "Unpacking x11proto-xf86dga-dev (2018.4-4) ...\n",
            "Selecting previously unselected package libxxf86dga-dev:amd64.\n",
            "Preparing to unpack .../51-libxxf86dga-dev_2%3a1.1.4-1_amd64.deb ...\n",
            "Unpacking libxxf86dga-dev:amd64 (2:1.1.4-1) ...\n",
            "Selecting previously unselected package mir-client-platform-mesa-dev:amd64.\n",
            "Preparing to unpack .../52-mir-client-platform-mesa-dev_0.31.1-0ubuntu1_amd64.deb ...\n",
            "Unpacking mir-client-platform-mesa-dev:amd64 (0.31.1-0ubuntu1) ...\n",
            "Selecting previously unselected package swig3.0.\n",
            "Preparing to unpack .../53-swig3.0_3.0.12-1_amd64.deb ...\n",
            "Unpacking swig3.0 (3.0.12-1) ...\n",
            "Selecting previously unselected package swig.\n",
            "Preparing to unpack .../54-swig_3.0.12-1_amd64.deb ...\n",
            "Unpacking swig (3.0.12-1) ...\n",
            "Selecting previously unselected package x11proto-dri2-dev.\n",
            "Preparing to unpack .../55-x11proto-dri2-dev_2018.4-4_all.deb ...\n",
            "Unpacking x11proto-dri2-dev (2018.4-4) ...\n",
            "Selecting previously unselected package x11proto-gl-dev.\n",
            "Preparing to unpack .../56-x11proto-gl-dev_2018.4-4_all.deb ...\n",
            "Unpacking x11proto-gl-dev (2018.4-4) ...\n",
            "Selecting previously unselected package x11proto-render-dev.\n",
            "Preparing to unpack .../57-x11proto-render-dev_2%3a2018.4-4_all.deb ...\n",
            "Unpacking x11proto-render-dev (2:2018.4-4) ...\n",
            "Selecting previously unselected package x11proto-xf86bigfont-dev.\n",
            "Preparing to unpack .../58-x11proto-xf86bigfont-dev_2018.4-4_all.deb ...\n",
            "Unpacking x11proto-xf86bigfont-dev (2018.4-4) ...\n",
            "Selecting previously unselected package libpciaccess-dev:amd64.\n",
            "Preparing to unpack .../59-libpciaccess-dev_0.14-1_amd64.deb ...\n",
            "Unpacking libpciaccess-dev:amd64 (0.14-1) ...\n",
            "Selecting previously unselected package xserver-xorg-dev.\n",
            "Preparing to unpack .../60-xserver-xorg-dev_2%3a1.19.6-1ubuntu4.8_amd64.deb ...\n",
            "Unpacking xserver-xorg-dev (2:1.19.6-1ubuntu4.8) ...\n",
            "Selecting previously unselected package xorg-dev.\n",
            "Preparing to unpack .../61-xorg-dev_1%3a7.7+19ubuntu7.1_all.deb ...\n",
            "Unpacking xorg-dev (1:7.7+19ubuntu7.1) ...\n",
            "Selecting previously unselected package xvfb.\n",
            "Preparing to unpack .../62-xvfb_2%3a1.19.6-1ubuntu4.8_amd64.deb ...\n",
            "Unpacking xvfb (2:1.19.6-1ubuntu4.8) ...\n",
            "Setting up x11proto-fonts-dev (2018.4-4) ...\n",
            "Setting up x11proto-dri2-dev (2018.4-4) ...\n",
            "Setting up libdbus-1-dev:amd64 (1.12.2-1ubuntu1.2) ...\n",
            "Setting up libxcursor-dev:amd64 (1:1.1.15-1) ...\n",
            "Setting up libxkbcommon-dev:amd64 (0.8.2-1~ubuntu18.04.1) ...\n",
            "Setting up libpulse-mainloop-glib0:amd64 (1:11.1-1ubuntu7.11) ...\n",
            "Setting up libpulse-dev:amd64 (1:11.1-1ubuntu7.11) ...\n",
            "Setting up swig3.0 (3.0.12-1) ...\n",
            "Setting up libpciaccess-dev:amd64 (0.14-1) ...\n",
            "Setting up libmircore-dev:amd64 (0.31.1-0ubuntu1) ...\n",
            "Setting up libxres1:amd64 (2:1.2.0-2) ...\n",
            "Setting up xvfb (2:1.19.6-1ubuntu4.8) ...\n",
            "Setting up libxpm-dev:amd64 (1:3.5.12-1) ...\n",
            "Setting up libsndio-dev:amd64 (1.1.0-3) ...\n",
            "Setting up libxres-dev (2:1.2.0-2) ...\n",
            "Setting up x11proto-xf86bigfont-dev (2018.4-4) ...\n",
            "Setting up libxkbfile-dev:amd64 (1:1.0.9-2) ...\n",
            "Setting up libxvmc1:amd64 (2:1.0.10-1) ...\n",
            "Setting up libxmuu-dev:amd64 (2:1.1.2-2) ...\n",
            "Setting up x11proto-record-dev (2018.4-4) ...\n",
            "Setting up libxtst-dev:amd64 (2:1.2.3-1) ...\n",
            "Setting up libmircookie2:amd64 (0.31.1-0ubuntu1) ...\n",
            "Setting up libfontenc-dev:amd64 (1:1.1.3-1) ...\n",
            "Setting up libxxf86dga1:amd64 (2:1.1.4-1) ...\n",
            "Setting up x11proto-xinerama-dev (2018.4-4) ...\n",
            "Setting up libpixman-1-dev:amd64 (0.34.0-2) ...\n",
            "Setting up x11proto-randr-dev (2018.4-4) ...\n",
            "Setting up libxinerama-dev:amd64 (2:1.1.3-1) ...\n",
            "Setting up x11proto-gl-dev (2018.4-4) ...\n",
            "Setting up libxv-dev:amd64 (2:1.0.11-1) ...\n",
            "Setting up libcapnp-0.6.1:amd64 (0.6.1-1ubuntu1) ...\n",
            "Setting up x11proto-resource-dev (2018.4-4) ...\n",
            "Setting up x11proto-xf86dga-dev (2018.4-4) ...\n",
            "Setting up libfs6:amd64 (2:1.0.7-1) ...\n",
            "Setting up libxxf86dga-dev:amd64 (2:1.1.4-1) ...\n",
            "Setting up libibus-1.0-5:amd64 (1.5.17-3ubuntu5.3) ...\n",
            "Setting up libdmx1:amd64 (1:1.1.3-1) ...\n",
            "Setting up x11proto-render-dev (2:2018.4-4) ...\n",
            "Setting up libmircore1:amd64 (0.31.1-0ubuntu1) ...\n",
            "Setting up libprotobuf-lite10:amd64 (3.0.0-9.1ubuntu1) ...\n",
            "Setting up libudev-dev:amd64 (237-3ubuntu10.45) ...\n",
            "Setting up x11proto-composite-dev (1:2018.4-4) ...\n",
            "Setting up gir1.2-ibus-1.0:amd64 (1.5.17-3ubuntu5.3) ...\n",
            "Setting up swig (3.0.12-1) ...\n",
            "Setting up libxrandr-dev:amd64 (2:1.5.1-1) ...\n",
            "Setting up libxcomposite-dev:amd64 (1:0.4.4-2) ...\n",
            "Setting up libxaw7-dev:amd64 (2:1.0.13-1) ...\n",
            "Setting up libmirprotobuf3:amd64 (0.31.1-0ubuntu1) ...\n",
            "Setting up libdmx-dev:amd64 (1:1.1.3-1) ...\n",
            "Setting up libprotobuf-dev:amd64 (3.0.0-9.1ubuntu1) ...\n",
            "Setting up libxvmc-dev:amd64 (2:1.0.10-1) ...\n",
            "Setting up libmircookie-dev:amd64 (0.31.1-0ubuntu1) ...\n",
            "Setting up libxfont-dev (1:2.0.3-1) ...\n",
            "Setting up libibus-1.0-dev:amd64 (1.5.17-3ubuntu5.3) ...\n",
            "Setting up libfs-dev:amd64 (2:1.0.7-1) ...\n",
            "Setting up libmircommon7:amd64 (0.31.1-0ubuntu1) ...\n",
            "Setting up libmirclient9:amd64 (0.31.1-0ubuntu1) ...\n",
            "Setting up libmircommon-dev:amd64 (0.31.1-0ubuntu1) ...\n",
            "Setting up libmirclient-dev:amd64 (0.31.1-0ubuntu1) ...\n",
            "Setting up libsdl2-dev:amd64 (2.0.8+dfsg1-1ubuntu1.18.04.4) ...\n",
            "Setting up mir-client-platform-mesa-dev:amd64 (0.31.1-0ubuntu1) ...\n",
            "Setting up xserver-xorg-dev (2:1.19.6-1ubuntu4.8) ...\n",
            "Setting up xorg-dev (1:7.7+19ubuntu7.1) ...\n",
            "Processing triggers for man-db (2.8.3-2ubuntu0.1) ...\n",
            "Processing triggers for libc-bin (2.27-3ubuntu1.2) ...\n",
            "/sbin/ldconfig.real: /usr/local/lib/python3.7/dist-packages/ideep4py/lib/libmkldnn.so.0 is not a symbolic link\n",
            "\n",
            "\u001b[K     |████████████████████████████████| 1.2MB 5.7MB/s \n",
            "\u001b[K     |████████████████████████████████| 1.6MB 21.2MB/s \n",
            "\u001b[K     |████████████████████████████████| 450kB 34.3MB/s \n",
            "\u001b[?25h  Building wheel for gym (setup.py) ... \u001b[?25l\u001b[?25hdone\n"
          ],
          "name": "stdout"
        }
      ]
    },
    {
      "cell_type": "code",
      "metadata": {
        "id": "afYIc2ZBBkju",
        "colab": {
          "base_uri": "https://localhost:8080/"
        },
        "outputId": "90b6b107-232a-4d09-d1ee-5a18ca5ce5fc"
      },
      "source": [
        "  #mouting drive\n",
        "drive.mount('/content/drive')"
      ],
      "execution_count": null,
      "outputs": [
        {
          "output_type": "stream",
          "text": [
            "Mounted at /content/drive\n"
          ],
          "name": "stdout"
        }
      ]
    },
    {
      "cell_type": "markdown",
      "metadata": {
        "id": "pJJkLzmoC_bg"
      },
      "source": [
        "# UTILS"
      ]
    },
    {
      "cell_type": "markdown",
      "metadata": {
        "id": "GgvHI0aKDcAU"
      },
      "source": [
        "## extract faces from images function(MTCNN)"
      ]
    },
    {
      "cell_type": "code",
      "metadata": {
        "id": "j5wUYgQuCIxK"
      },
      "source": [
        "\n",
        "\n",
        "def extract_face(class_batch, required_size=(160, 160)):\n",
        "  # load image from file\n",
        "  #image = Image.open(filename)\n",
        "  # convert to RGB, if needed\n",
        "  #image = image.convert('RGB')\n",
        "  # convert to array\n",
        "  #pixels = asarray(image)\n",
        "\n",
        "\t# create the detector, using default weights\n",
        "  detector = MTCNN()\n",
        "\t# detect faces in the image\n",
        "  face_array = []\n",
        "  with tf.device('/device:GPU:0'):\n",
        "    for photo in class_batch:\n",
        "      results = detector.detect_faces(photo)\n",
        "      \n",
        "      # extract the bounding box from the first face\n",
        "      b=len(results)\n",
        "      a=1\n",
        "      for result in results:\n",
        "        x1, y1, width, height = result['box']\n",
        "        x1, y1 = abs(x1), abs(y1)\n",
        "        x2, y2 = x1 + width, y1 + height\n",
        "        face = photo[y1:y2, x1:x2]\n",
        "        image = Image.fromarray(face)\n",
        "        image = image.resize(required_size)\n",
        "        a=a+1\n",
        "        face_array.append(asarray(image))\n",
        "  return face_array"
      ],
      "execution_count": null,
      "outputs": []
    },
    {
      "cell_type": "markdown",
      "metadata": {
        "id": "ytU1v-dUDhIr"
      },
      "source": [
        "## import images from a class"
      ]
    },
    {
      "cell_type": "code",
      "metadata": {
        "id": "hC1hFXlQDhfH"
      },
      "source": [
        "def import_class_images(class_path,startswith = 'P'):\n",
        "    # inicializa matrizes X e y\n",
        "    X = []\n",
        "\n",
        "    # percorre todos os diretorios da base class_photos e carrega as imagens\n",
        "    imgs_path = class_path\n",
        "    dir =os.listdir(imgs_path)\n",
        "    i=0\n",
        "    for f in sorted(dir): \n",
        "        if f.startswith(startswith):\n",
        "              if f.endswith(\".png\"):\n",
        "                  # copia msg imagem para os 3 canais\n",
        "                  X.append(io.imread(os.path.join(imgs_path,f)))   \n",
        "                  i = i + 1\n",
        "    return asarray(X)"
      ],
      "execution_count": null,
      "outputs": []
    },
    {
      "cell_type": "markdown",
      "metadata": {
        "id": "GuGAgTqNDiIg"
      },
      "source": [
        "## get embeddings from a batch of faces"
      ]
    },
    {
      "cell_type": "code",
      "metadata": {
        "id": "7aSx55XLD2AO"
      },
      "source": [
        "def get_embedding(batch):\n",
        "    \n",
        "\n",
        "    i = 0\n",
        "    # scale pixel values\n",
        "    embeddings_array = []\n",
        "    for face_pixels in batch:\n",
        "        \n",
        "        face_pixels = face_pixels.astype('float32')\n",
        "        # standardize pixel values across channels (global)\n",
        "        mean, std = face_pixels.mean(), face_pixels.std()\n",
        "        face_pixels = (face_pixels - mean) / std\n",
        "        embeddings_array.append(face_pixels)\n",
        "        i += 1\n",
        "\n",
        "    \n",
        "    \n",
        "    # make prediction to get embedding\n",
        "    \n",
        "    face_embeddings = faceNet.predict(asarray(embeddings_array))\n",
        "    return face_embeddings"
      ],
      "execution_count": null,
      "outputs": []
    },
    {
      "cell_type": "markdown",
      "metadata": {
        "id": "VOD-ljagDiPA"
      },
      "source": [
        "## pre-processing in images for resizing"
      ]
    },
    {
      "cell_type": "code",
      "metadata": {
        "id": "T7u1GOzeEL9T"
      },
      "source": [
        "def pre_processing (batch):    \n",
        "    face_array=[]\n",
        "    for face in batch:\n",
        "        image = Image.fromarray(face)\n",
        "        image = image.resize((160,160))\n",
        "        face_array.append(asarray(image))\n",
        "    return asarray(face_array)"
      ],
      "execution_count": null,
      "outputs": []
    },
    {
      "cell_type": "markdown",
      "metadata": {
        "id": "lDtcSXVRDiRw"
      },
      "source": [
        "## Embeddings cosine similarity"
      ]
    },
    {
      "cell_type": "code",
      "metadata": {
        "id": "egr6I5poE58g"
      },
      "source": [
        "def findCosineSimilarity(source_representation, test_representation):\n",
        "    a = np.matmul(np.transpose(source_representation), test_representation)\n",
        "    b = np.sum(np.multiply(source_representation, source_representation))\n",
        "    c = np.sum(np.multiply(test_representation, test_representation))\n",
        "    return 1 - (a / (np.sqrt(b) * np.sqrt(c)))"
      ],
      "execution_count": null,
      "outputs": []
    },
    {
      "cell_type": "markdown",
      "metadata": {
        "id": "KEUtHF82DiUg"
      },
      "source": [
        "## import training/evaluation images function"
      ]
    },
    {
      "cell_type": "code",
      "metadata": {
        "id": "MGJ7FxT5FW_P"
      },
      "source": [
        "def import_query_images(path,size=10):\n",
        "    # inicializa matrizes X e y\n",
        "    X = []\n",
        "    # percorre todos os diretorios da base class_photos e carrega as imagens\n",
        "    i=0\n",
        "    dir = os.listdir(path)\n",
        "    with tf.device('/device:GPU:0'):\n",
        "        for f in tqdm(sorted(dir)): \n",
        "            if (i>=size):\n",
        "                break\n",
        "            if f.startswith('Q'):\n",
        "                # copia msg imagem para os 3 canais\n",
        "                #f =  Q+f+.png(f tem 4 numeros)\n",
        "                X.append(io.imread(os.path.join(path,f)))   \n",
        "                i = i + 1\n",
        "        return asarray(X)\n"
      ],
      "execution_count": null,
      "outputs": []
    },
    {
      "cell_type": "markdown",
      "metadata": {
        "id": "C_fwBBZnDiW4"
      },
      "source": [
        "## images standardization function"
      ]
    },
    {
      "cell_type": "code",
      "metadata": {
        "id": "v4LZwVE6FtWp"
      },
      "source": [
        "def standard (batch):\n",
        "    i = 0\n",
        "    # scale pixel values\n",
        "    embeddings_array = []\n",
        "    for face_pixels in batch:\n",
        "        \n",
        "        face_pixels = face_pixels.astype('float32')\n",
        "        # standardize pixel values across channels (global)\n",
        "        mean, std = face_pixels.mean(), face_pixels.std()\n",
        "        face_pixels = (face_pixels - mean) / std\n",
        "        embeddings_array.append(face_pixels)\n",
        "        i += 1    \n",
        "    return embeddings_array"
      ],
      "execution_count": null,
      "outputs": []
    },
    {
      "cell_type": "markdown",
      "metadata": {
        "id": "BhJbLJB2DiZY"
      },
      "source": [
        "# IMPORTING AND PROCESSING DATASET"
      ]
    },
    {
      "cell_type": "markdown",
      "metadata": {
        "id": "5PJqdUrvGBcg"
      },
      "source": [
        "## importing images for training"
      ]
    },
    {
      "cell_type": "code",
      "metadata": {
        "id": "3HYrYDuZDiZZ",
        "colab": {
          "base_uri": "https://localhost:8080/"
        },
        "outputId": "349b2bf3-0d18-4db1-8174-bf8f461e40f2"
      },
      "source": [
        "query_path = \"/content/drive/My Drive/redespdi/datasets/DB_Sala/DB/query\" \n",
        "class_query_batch=import_query_images(query_path,5000)\n",
        "\n",
        "validation_X=class_query_batch[:464]\n",
        "training_X=class_query_batch[464:3675]\n",
        "test_X = class_query_batch[3675:]"
      ],
      "execution_count": null,
      "outputs": [
        {
          "output_type": "stream",
          "text": [
            "100%|██████████| 4898/4898 [58:18<00:00,  1.40it/s]\n",
            "/usr/local/lib/python3.7/dist-packages/numpy/core/_asarray.py:83: VisibleDeprecationWarning: Creating an ndarray from ragged nested sequences (which is a list-or-tuple of lists-or-tuples-or ndarrays with different lengths or shapes) is deprecated. If you meant to do this, you must specify 'dtype=object' when creating the ndarray\n",
            "  return array(a, dtype, copy=False, order=order)\n"
          ],
          "name": "stderr"
        }
      ]
    },
    {
      "cell_type": "markdown",
      "metadata": {
        "id": "ivdX7pYsUXT9"
      },
      "source": [
        "##Import images for enroll"
      ]
    },
    {
      "cell_type": "code",
      "metadata": {
        "id": "0gtSnftIUW0Q",
        "colab": {
          "base_uri": "https://localhost:8080/"
        },
        "outputId": "9e6556a5-9c71-47e1-89d9-f13571420deb"
      },
      "source": [
        "enroll_path = \"/content/drive/My Drive/redespdi/datasets/DB_Sala/DB/enroll\" \n",
        "enroll_batch = import_class_images(enroll_path,'E')"
      ],
      "execution_count": null,
      "outputs": [
        {
          "output_type": "stream",
          "text": [
            "/usr/local/lib/python3.7/dist-packages/numpy/core/_asarray.py:83: VisibleDeprecationWarning: Creating an ndarray from ragged nested sequences (which is a list-or-tuple of lists-or-tuples-or ndarrays with different lengths or shapes) is deprecated. If you meant to do this, you must specify 'dtype=object' when creating the ndarray\n",
            "  return array(a, dtype, copy=False, order=order)\n"
          ],
          "name": "stderr"
        }
      ]
    },
    {
      "cell_type": "markdown",
      "metadata": {
        "id": "S7Irc5aqGeq2"
      },
      "source": [
        "## importing training labels"
      ]
    },
    {
      "cell_type": "code",
      "metadata": {
        "id": "Z6PDKGGSDiW5"
      },
      "source": [
        "query_table_path=\"/content/drive/My Drive/redespdi/datasets/DB_Sala/DB/data/query_database.npy\"\n",
        "X = np.load(query_table_path,allow_pickle=True) \n",
        "\n",
        "data = pd.DataFrame.from_dict(data = X[0], orient = 'columns')\n",
        "validation_data = data[data['day']<=1]  #id < 343\n",
        "training_data = data[(data['day']>1) & (data['day']<18)] #343 e 3429\n",
        "test_data = data[(data['day']>=18)]  #3429"
      ],
      "execution_count": null,
      "outputs": []
    },
    {
      "cell_type": "code",
      "metadata": {
        "id": "rrJ8WkXtI9i-",
        "colab": {
          "base_uri": "https://localhost:8080/",
          "height": 419
        },
        "outputId": "4319db34-bd17-46d2-d00b-e8e6f8c2b60e"
      },
      "source": [
        "training_data"
      ],
      "execution_count": null,
      "outputs": [
        {
          "output_type": "execute_result",
          "data": {
            "text/html": [
              "<div>\n",
              "<style scoped>\n",
              "    .dataframe tbody tr th:only-of-type {\n",
              "        vertical-align: middle;\n",
              "    }\n",
              "\n",
              "    .dataframe tbody tr th {\n",
              "        vertical-align: top;\n",
              "    }\n",
              "\n",
              "    .dataframe thead th {\n",
              "        text-align: right;\n",
              "    }\n",
              "</style>\n",
              "<table border=\"1\" class=\"dataframe\">\n",
              "  <thead>\n",
              "    <tr style=\"text-align: right;\">\n",
              "      <th></th>\n",
              "      <th>id</th>\n",
              "      <th>day</th>\n",
              "      <th>photo</th>\n",
              "      <th>num_face</th>\n",
              "      <th>rect</th>\n",
              "      <th>identity</th>\n",
              "    </tr>\n",
              "  </thead>\n",
              "  <tbody>\n",
              "    <tr>\n",
              "      <th>464</th>\n",
              "      <td>464</td>\n",
              "      <td>2</td>\n",
              "      <td>0</td>\n",
              "      <td>0</td>\n",
              "      <td>[(652, 1134) (700, 1182)]</td>\n",
              "      <td>53</td>\n",
              "    </tr>\n",
              "    <tr>\n",
              "      <th>465</th>\n",
              "      <td>465</td>\n",
              "      <td>2</td>\n",
              "      <td>0</td>\n",
              "      <td>1</td>\n",
              "      <td>[(952, 1142) (1004, 1194)]</td>\n",
              "      <td>12</td>\n",
              "    </tr>\n",
              "    <tr>\n",
              "      <th>466</th>\n",
              "      <td>466</td>\n",
              "      <td>2</td>\n",
              "      <td>0</td>\n",
              "      <td>2</td>\n",
              "      <td>[(802, 1146) (854, 1198)]</td>\n",
              "      <td>49</td>\n",
              "    </tr>\n",
              "    <tr>\n",
              "      <th>467</th>\n",
              "      <td>467</td>\n",
              "      <td>2</td>\n",
              "      <td>0</td>\n",
              "      <td>3</td>\n",
              "      <td>[(1521, 1151) (1568, 1198)]</td>\n",
              "      <td>2</td>\n",
              "    </tr>\n",
              "    <tr>\n",
              "      <th>468</th>\n",
              "      <td>468</td>\n",
              "      <td>2</td>\n",
              "      <td>0</td>\n",
              "      <td>4</td>\n",
              "      <td>[(387, 1147) (440, 1200)]</td>\n",
              "      <td>13</td>\n",
              "    </tr>\n",
              "    <tr>\n",
              "      <th>...</th>\n",
              "      <td>...</td>\n",
              "      <td>...</td>\n",
              "      <td>...</td>\n",
              "      <td>...</td>\n",
              "      <td>...</td>\n",
              "      <td>...</td>\n",
              "    </tr>\n",
              "    <tr>\n",
              "      <th>3670</th>\n",
              "      <td>3670</td>\n",
              "      <td>17</td>\n",
              "      <td>5</td>\n",
              "      <td>26</td>\n",
              "      <td>[(660, 2716) (898, 2954)]</td>\n",
              "      <td>32</td>\n",
              "    </tr>\n",
              "    <tr>\n",
              "      <th>3671</th>\n",
              "      <td>3671</td>\n",
              "      <td>17</td>\n",
              "      <td>5</td>\n",
              "      <td>27</td>\n",
              "      <td>[(2313, 2653) (2555, 2895)]</td>\n",
              "      <td>5</td>\n",
              "    </tr>\n",
              "    <tr>\n",
              "      <th>3672</th>\n",
              "      <td>3672</td>\n",
              "      <td>17</td>\n",
              "      <td>5</td>\n",
              "      <td>28</td>\n",
              "      <td>[(1293, 1839) (1342, 1900)]</td>\n",
              "      <td>18</td>\n",
              "    </tr>\n",
              "    <tr>\n",
              "      <th>3673</th>\n",
              "      <td>3673</td>\n",
              "      <td>17</td>\n",
              "      <td>5</td>\n",
              "      <td>29</td>\n",
              "      <td>[(1477, 1790) (1516, 1840)]</td>\n",
              "      <td>12</td>\n",
              "    </tr>\n",
              "    <tr>\n",
              "      <th>3674</th>\n",
              "      <td>3674</td>\n",
              "      <td>17</td>\n",
              "      <td>5</td>\n",
              "      <td>31</td>\n",
              "      <td>[(1338, 1783) (1381, 1836)]</td>\n",
              "      <td>49</td>\n",
              "    </tr>\n",
              "  </tbody>\n",
              "</table>\n",
              "<p>3211 rows × 6 columns</p>\n",
              "</div>"
            ],
            "text/plain": [
              "        id  day  photo  num_face                         rect  identity\n",
              "464    464    2      0         0    [(652, 1134) (700, 1182)]        53\n",
              "465    465    2      0         1   [(952, 1142) (1004, 1194)]        12\n",
              "466    466    2      0         2    [(802, 1146) (854, 1198)]        49\n",
              "467    467    2      0         3  [(1521, 1151) (1568, 1198)]         2\n",
              "468    468    2      0         4    [(387, 1147) (440, 1200)]        13\n",
              "...    ...  ...    ...       ...                          ...       ...\n",
              "3670  3670   17      5        26    [(660, 2716) (898, 2954)]        32\n",
              "3671  3671   17      5        27  [(2313, 2653) (2555, 2895)]         5\n",
              "3672  3672   17      5        28  [(1293, 1839) (1342, 1900)]        18\n",
              "3673  3673   17      5        29  [(1477, 1790) (1516, 1840)]        12\n",
              "3674  3674   17      5        31  [(1338, 1783) (1381, 1836)]        49\n",
              "\n",
              "[3211 rows x 6 columns]"
            ]
          },
          "metadata": {
            "tags": []
          },
          "execution_count": 14
        }
      ]
    },
    {
      "cell_type": "code",
      "metadata": {
        "id": "WAAotGKbDiUg"
      },
      "source": [
        "# saving labels\n",
        "validation_y = asarray(validation_data['identity'])\n",
        "training_y = asarray(training_data['identity'])\n",
        "test_y = asarray(test_data['identity'])"
      ],
      "execution_count": null,
      "outputs": []
    },
    {
      "cell_type": "markdown",
      "metadata": {
        "id": "M2z0n4fxHPbt"
      },
      "source": [
        "## rezising images"
      ]
    },
    {
      "cell_type": "code",
      "metadata": {
        "id": "vEH-4PYiDiRx"
      },
      "source": [
        "validation_X_extracted = pre_processing(validation_X)\n",
        "training_X_extracted = pre_processing(training_X)\n",
        "test_X_extracted = pre_processing(test_X)"
      ],
      "execution_count": null,
      "outputs": []
    },
    {
      "cell_type": "markdown",
      "metadata": {
        "id": "FMKvyJ88HXnH"
      },
      "source": [
        "## standardizing images"
      ]
    },
    {
      "cell_type": "code",
      "metadata": {
        "id": "Q_TnYpQRDiPA"
      },
      "source": [
        "validation_X_std = standard(validation_X_extracted)\n",
        "training_X_std = standard(training_X_extracted)\n",
        "# only the images used in training are standardized"
      ],
      "execution_count": null,
      "outputs": []
    },
    {
      "cell_type": "markdown",
      "metadata": {
        "id": "LfoLmOuHJNYv"
      },
      "source": [
        "# FINETUNING FACENET"
      ]
    },
    {
      "cell_type": "markdown",
      "metadata": {
        "id": "O-JWcggaJWHH"
      },
      "source": [
        "## importing faceNet model"
      ]
    },
    {
      "cell_type": "code",
      "metadata": {
        "id": "_0GB1-RmJTB4",
        "colab": {
          "base_uri": "https://localhost:8080/"
        },
        "outputId": "665dd2f5-e46d-437e-8670-bf3f8fdd4e75"
      },
      "source": [
        "# load the model\n",
        "facenet_dic='/content/drive/My Drive/redespdi/facenetKeras/model/facenet_keras.h5'\n",
        "faceNet = load_model(facenet_dic,compile=True)\n"
      ],
      "execution_count": null,
      "outputs": [
        {
          "output_type": "stream",
          "text": [
            "WARNING:tensorflow:No training configuration found in the save file, so the model was *not* compiled. Compile it manually.\n"
          ],
          "name": "stdout"
        }
      ]
    },
    {
      "cell_type": "markdown",
      "metadata": {
        "id": "NjNN8yyWKLlJ"
      },
      "source": [
        "## preparing new model\n"
      ]
    },
    {
      "cell_type": "code",
      "metadata": {
        "id": "0e4dUfJjKWJ6"
      },
      "source": [
        "tf.keras.backend.clear_session()\n",
        "np.random.seed(42)\n",
        "tf.random.set_seed(42)\n",
        "# setting only the new layer to be trainable\n",
        "faceNet.trainable = False\n",
        "inputs = faceNet.input\n",
        "outputs = tf.keras.layers.Dense(67,activation='softmax')(faceNet.output)\n",
        "# creating a new model for classification with a new dataset\n",
        "model = tf.keras.Model(inputs, outputs,name='Model')"
      ],
      "execution_count": null,
      "outputs": []
    },
    {
      "cell_type": "markdown",
      "metadata": {
        "id": "cqCpONDwKoTE"
      },
      "source": [
        "## compile new model"
      ]
    },
    {
      "cell_type": "code",
      "metadata": {
        "id": "07meVcXpKoZV"
      },
      "source": [
        "model.compile(optimizer=keras.optimizers.Adagrad(0.003),\n",
        "              loss=keras.losses.sparse_categorical_crossentropy,\n",
        "              metrics=['accuracy'])"
      ],
      "execution_count": null,
      "outputs": []
    },
    {
      "cell_type": "markdown",
      "metadata": {
        "id": "pMYS0p7eKofb"
      },
      "source": [
        "## training new model"
      ]
    },
    {
      "cell_type": "code",
      "metadata": {
        "id": "BlktQn3XKokD",
        "colab": {
          "base_uri": "https://localhost:8080/"
        },
        "outputId": "3115df7b-1bb1-4291-ad3c-ba453069611c"
      },
      "source": [
        "history = model.fit(x = asarray(training_X_std),y = training_y,epochs=50,validation_data=(asarray(validation_X_std),validation_y),batch_size=32)"
      ],
      "execution_count": null,
      "outputs": [
        {
          "output_type": "stream",
          "text": [
            "Epoch 1/50\n",
            "101/101 [==============================] - 53s 162ms/step - loss: 4.6569 - accuracy: 0.0248 - val_loss: 3.8426 - val_accuracy: 0.1078\n",
            "Epoch 2/50\n",
            "101/101 [==============================] - 13s 128ms/step - loss: 3.6333 - accuracy: 0.1505 - val_loss: 3.2023 - val_accuracy: 0.2694\n",
            "Epoch 3/50\n",
            "101/101 [==============================] - 13s 128ms/step - loss: 2.9604 - accuracy: 0.3314 - val_loss: 2.7389 - val_accuracy: 0.3987\n",
            "Epoch 4/50\n",
            "101/101 [==============================] - 13s 128ms/step - loss: 2.5191 - accuracy: 0.4810 - val_loss: 2.3838 - val_accuracy: 0.5216\n",
            "Epoch 5/50\n",
            "101/101 [==============================] - 13s 127ms/step - loss: 2.1749 - accuracy: 0.5989 - val_loss: 2.1027 - val_accuracy: 0.6142\n",
            "Epoch 6/50\n",
            "101/101 [==============================] - 13s 127ms/step - loss: 1.8679 - accuracy: 0.7025 - val_loss: 1.8757 - val_accuracy: 0.6853\n",
            "Epoch 7/50\n",
            "101/101 [==============================] - 13s 127ms/step - loss: 1.6211 - accuracy: 0.7696 - val_loss: 1.6895 - val_accuracy: 0.7435\n",
            "Epoch 8/50\n",
            "101/101 [==============================] - 13s 127ms/step - loss: 1.4246 - accuracy: 0.8335 - val_loss: 1.5351 - val_accuracy: 0.7953\n",
            "Epoch 9/50\n",
            "101/101 [==============================] - 13s 127ms/step - loss: 1.3127 - accuracy: 0.8501 - val_loss: 1.4061 - val_accuracy: 0.8147\n",
            "Epoch 10/50\n",
            "101/101 [==============================] - 13s 127ms/step - loss: 1.1669 - accuracy: 0.8883 - val_loss: 1.2965 - val_accuracy: 0.8297\n",
            "Epoch 11/50\n",
            "101/101 [==============================] - 13s 127ms/step - loss: 1.0493 - accuracy: 0.9106 - val_loss: 1.2032 - val_accuracy: 0.8384\n",
            "Epoch 12/50\n",
            "101/101 [==============================] - 13s 128ms/step - loss: 0.9865 - accuracy: 0.9097 - val_loss: 1.1226 - val_accuracy: 0.8448\n",
            "Epoch 13/50\n",
            "101/101 [==============================] - 13s 127ms/step - loss: 0.9096 - accuracy: 0.9193 - val_loss: 1.0529 - val_accuracy: 0.8491\n",
            "Epoch 14/50\n",
            "101/101 [==============================] - 13s 127ms/step - loss: 0.7902 - accuracy: 0.9360 - val_loss: 0.9915 - val_accuracy: 0.8599\n",
            "Epoch 15/50\n",
            "101/101 [==============================] - 13s 127ms/step - loss: 0.7792 - accuracy: 0.9350 - val_loss: 0.9375 - val_accuracy: 0.8750\n",
            "Epoch 16/50\n",
            "101/101 [==============================] - 13s 128ms/step - loss: 0.7219 - accuracy: 0.9423 - val_loss: 0.8901 - val_accuracy: 0.8815\n",
            "Epoch 17/50\n",
            "101/101 [==============================] - 13s 128ms/step - loss: 0.6688 - accuracy: 0.9495 - val_loss: 0.8474 - val_accuracy: 0.8858\n",
            "Epoch 18/50\n",
            "101/101 [==============================] - 13s 128ms/step - loss: 0.6376 - accuracy: 0.9506 - val_loss: 0.8093 - val_accuracy: 0.8966\n",
            "Epoch 19/50\n",
            "101/101 [==============================] - 13s 128ms/step - loss: 0.5943 - accuracy: 0.9559 - val_loss: 0.7749 - val_accuracy: 0.9073\n",
            "Epoch 20/50\n",
            "101/101 [==============================] - 13s 128ms/step - loss: 0.5951 - accuracy: 0.9471 - val_loss: 0.7432 - val_accuracy: 0.9095\n",
            "Epoch 21/50\n",
            "101/101 [==============================] - 13s 128ms/step - loss: 0.5482 - accuracy: 0.9595 - val_loss: 0.7148 - val_accuracy: 0.9095\n",
            "Epoch 22/50\n",
            "101/101 [==============================] - 13s 128ms/step - loss: 0.5399 - accuracy: 0.9489 - val_loss: 0.6889 - val_accuracy: 0.9095\n",
            "Epoch 23/50\n",
            "101/101 [==============================] - 13s 128ms/step - loss: 0.4978 - accuracy: 0.9626 - val_loss: 0.6650 - val_accuracy: 0.9095\n",
            "Epoch 24/50\n",
            "101/101 [==============================] - 13s 128ms/step - loss: 0.4737 - accuracy: 0.9606 - val_loss: 0.6430 - val_accuracy: 0.9138\n",
            "Epoch 25/50\n",
            "101/101 [==============================] - 13s 128ms/step - loss: 0.4629 - accuracy: 0.9595 - val_loss: 0.6225 - val_accuracy: 0.9181\n",
            "Epoch 26/50\n",
            "101/101 [==============================] - 13s 128ms/step - loss: 0.4427 - accuracy: 0.9608 - val_loss: 0.6034 - val_accuracy: 0.9181\n",
            "Epoch 27/50\n",
            "101/101 [==============================] - 13s 128ms/step - loss: 0.4379 - accuracy: 0.9628 - val_loss: 0.5856 - val_accuracy: 0.9203\n",
            "Epoch 28/50\n",
            "101/101 [==============================] - 13s 128ms/step - loss: 0.4169 - accuracy: 0.9662 - val_loss: 0.5691 - val_accuracy: 0.9246\n",
            "Epoch 29/50\n",
            "101/101 [==============================] - 13s 128ms/step - loss: 0.4058 - accuracy: 0.9670 - val_loss: 0.5538 - val_accuracy: 0.9246\n",
            "Epoch 30/50\n",
            "101/101 [==============================] - 13s 127ms/step - loss: 0.3980 - accuracy: 0.9646 - val_loss: 0.5394 - val_accuracy: 0.9246\n",
            "Epoch 31/50\n",
            "101/101 [==============================] - 13s 128ms/step - loss: 0.3728 - accuracy: 0.9748 - val_loss: 0.5260 - val_accuracy: 0.9267\n",
            "Epoch 32/50\n",
            "101/101 [==============================] - 13s 128ms/step - loss: 0.3756 - accuracy: 0.9683 - val_loss: 0.5132 - val_accuracy: 0.9289\n",
            "Epoch 33/50\n",
            "101/101 [==============================] - 13s 127ms/step - loss: 0.3507 - accuracy: 0.9733 - val_loss: 0.5011 - val_accuracy: 0.9289\n",
            "Epoch 34/50\n",
            "101/101 [==============================] - 13s 127ms/step - loss: 0.3530 - accuracy: 0.9654 - val_loss: 0.4898 - val_accuracy: 0.9310\n",
            "Epoch 35/50\n",
            "101/101 [==============================] - 13s 128ms/step - loss: 0.3348 - accuracy: 0.9717 - val_loss: 0.4790 - val_accuracy: 0.9310\n",
            "Epoch 36/50\n",
            "101/101 [==============================] - 13s 127ms/step - loss: 0.3458 - accuracy: 0.9715 - val_loss: 0.4687 - val_accuracy: 0.9310\n",
            "Epoch 37/50\n",
            "101/101 [==============================] - 13s 127ms/step - loss: 0.3246 - accuracy: 0.9715 - val_loss: 0.4588 - val_accuracy: 0.9332\n",
            "Epoch 38/50\n",
            "101/101 [==============================] - 13s 128ms/step - loss: 0.3206 - accuracy: 0.9759 - val_loss: 0.4497 - val_accuracy: 0.9332\n",
            "Epoch 39/50\n",
            "101/101 [==============================] - 13s 127ms/step - loss: 0.2945 - accuracy: 0.9793 - val_loss: 0.4410 - val_accuracy: 0.9332\n",
            "Epoch 40/50\n",
            "101/101 [==============================] - 13s 127ms/step - loss: 0.3102 - accuracy: 0.9722 - val_loss: 0.4326 - val_accuracy: 0.9332\n",
            "Epoch 41/50\n",
            "101/101 [==============================] - 13s 127ms/step - loss: 0.2968 - accuracy: 0.9759 - val_loss: 0.4246 - val_accuracy: 0.9332\n",
            "Epoch 42/50\n",
            "101/101 [==============================] - 13s 127ms/step - loss: 0.2923 - accuracy: 0.9785 - val_loss: 0.4164 - val_accuracy: 0.9332\n",
            "Epoch 43/50\n",
            "101/101 [==============================] - 13s 127ms/step - loss: 0.2874 - accuracy: 0.9761 - val_loss: 0.4092 - val_accuracy: 0.9353\n",
            "Epoch 44/50\n",
            "101/101 [==============================] - 13s 127ms/step - loss: 0.2801 - accuracy: 0.9747 - val_loss: 0.4022 - val_accuracy: 0.9353\n",
            "Epoch 45/50\n",
            "101/101 [==============================] - 13s 128ms/step - loss: 0.2697 - accuracy: 0.9751 - val_loss: 0.3955 - val_accuracy: 0.9397\n",
            "Epoch 46/50\n",
            "101/101 [==============================] - 13s 127ms/step - loss: 0.2721 - accuracy: 0.9736 - val_loss: 0.3888 - val_accuracy: 0.9418\n",
            "Epoch 47/50\n",
            "101/101 [==============================] - 13s 127ms/step - loss: 0.2652 - accuracy: 0.9790 - val_loss: 0.3827 - val_accuracy: 0.9461\n",
            "Epoch 48/50\n",
            "101/101 [==============================] - 13s 127ms/step - loss: 0.2695 - accuracy: 0.9754 - val_loss: 0.3768 - val_accuracy: 0.9461\n",
            "Epoch 49/50\n",
            "101/101 [==============================] - 13s 127ms/step - loss: 0.2480 - accuracy: 0.9831 - val_loss: 0.3712 - val_accuracy: 0.9504\n",
            "Epoch 50/50\n",
            "101/101 [==============================] - 13s 127ms/step - loss: 0.2299 - accuracy: 0.9810 - val_loss: 0.3658 - val_accuracy: 0.9526\n"
          ],
          "name": "stdout"
        }
      ]
    },
    {
      "cell_type": "markdown",
      "metadata": {
        "id": "j_91VBlRKooW"
      },
      "source": [
        "## plotting  model accuracy and loss"
      ]
    },
    {
      "cell_type": "code",
      "metadata": {
        "id": "iQUD9p-LKosu",
        "colab": {
          "base_uri": "https://localhost:8080/",
          "height": 513
        },
        "outputId": "455be5cb-a33e-43f7-cdf1-da3b7e613924"
      },
      "source": [
        "acc = history.history['accuracy']\n",
        "val_acc = history.history['val_accuracy']\n",
        "\n",
        "loss = history.history['loss']\n",
        "val_loss = history.history['val_loss']\n",
        "\n",
        "plt.figure(figsize=(8, 8))\n",
        "plt.subplot(2,1, 1)\n",
        "plt.plot(acc, label='Training Accuracy')\n",
        "plt.plot(val_acc, label='Validation Accuracy')\n",
        "plt.legend(loc='lower right')\n",
        "plt.ylabel('Accuracy')\n",
        "plt.ylim([min(plt.ylim()),1])\n",
        "plt.title('Training and Validation Accuracy')\n",
        "\n",
        "plt.subplot(2,1,2)\n",
        "plt.plot(loss, label='Training Loss')\n",
        "plt.plot(val_loss, label='Validation Loss')\n",
        "plt.legend(loc='upper right')\n",
        "plt.ylabel('Cross Entropy')\n",
        "plt.ylim([0,4.0])\n",
        "plt.title('Training and Validation Loss')\n",
        "plt.xlabel('epoch')\n",
        "plt.show()"
      ],
      "execution_count": null,
      "outputs": [
        {
          "output_type": "display_data",
          "data": {
            "image/png": "[encoded data removed]",
            "text/plain": [
              "<Figure size 576x576 with 2 Axes>"
            ]
          },
          "metadata": {
            "tags": [],
            "needs_background": "light"
          }
        }
      ]
    },
    {
      "cell_type": "markdown",
      "metadata": {
        "id": "TcKxUI2iKown"
      },
      "source": [
        "## preparing last layer of new classification model for fine tuning"
      ]
    },
    {
      "cell_type": "code",
      "metadata": {
        "id": "pGIUy7KmKo1S",
        "colab": {
          "base_uri": "https://localhost:8080/"
        },
        "outputId": "f748695c-c1ef-400b-8b49-95bf6e34621c"
      },
      "source": [
        "np.random.seed(42)\n",
        "tf.random.set_seed(42)\n",
        "faceNet.trainable= True\n",
        "print(\"Number of layers in the base model: \", len(faceNet.layers))\n",
        "fine_tune_at = 300\n",
        "for layer in faceNet.layers[:fine_tune_at]:\n",
        "  layer.trainable =  False\n"
      ],
      "execution_count": null,
      "outputs": [
        {
          "output_type": "stream",
          "text": [
            "Number of layers in the base model:  426\n"
          ],
          "name": "stdout"
        }
      ]
    },
    {
      "cell_type": "markdown",
      "metadata": {
        "id": "8k_pNpjrKo6B"
      },
      "source": [
        "## fine-tuning new classification model"
      ]
    },
    {
      "cell_type": "code",
      "metadata": {
        "id": "yKFRciDKKo-U",
        "colab": {
          "base_uri": "https://localhost:8080/"
        },
        "outputId": "1390ea25-fbef-4b4f-9283-22ff12f85709"
      },
      "source": [
        "\n",
        "model.compile(loss=keras.losses.sparse_categorical_crossentropy,\n",
        "              optimizer = tf.keras.optimizers.RMSprop(learning_rate=0.003/10),\n",
        "              metrics=['accuracy'])\n",
        "\n",
        "history_fine = model.fit(x = asarray(training_X_std),y = training_y,epochs=80,validation_data=(asarray(validation_X_std),validation_y),batch_size=32,initial_epoch=history.epoch[-1],)"
      ],
      "execution_count": null,
      "outputs": [
        {
          "output_type": "stream",
          "text": [
            "Epoch 50/80\n",
            "101/101 [==============================] - 32s 215ms/step - loss: 0.2015 - accuracy: 0.9680 - val_loss: 0.3180 - val_accuracy: 0.9612\n",
            "Epoch 51/80\n",
            "101/101 [==============================] - 19s 192ms/step - loss: 0.0163 - accuracy: 0.9984 - val_loss: 0.1822 - val_accuracy: 0.9763\n",
            "Epoch 52/80\n",
            "101/101 [==============================] - 19s 193ms/step - loss: 0.0039 - accuracy: 1.0000 - val_loss: 0.2834 - val_accuracy: 0.9763\n",
            "Epoch 53/80\n",
            "101/101 [==============================] - 19s 193ms/step - loss: 0.0017 - accuracy: 0.9997 - val_loss: 0.1704 - val_accuracy: 0.9806\n",
            "Epoch 54/80\n",
            "101/101 [==============================] - 19s 192ms/step - loss: 5.3357e-04 - accuracy: 1.0000 - val_loss: 0.1935 - val_accuracy: 0.9784\n",
            "Epoch 55/80\n",
            "101/101 [==============================] - 19s 193ms/step - loss: 7.2565e-04 - accuracy: 1.0000 - val_loss: 0.1003 - val_accuracy: 0.9849\n",
            "Epoch 56/80\n",
            "101/101 [==============================] - 19s 193ms/step - loss: 6.2183e-05 - accuracy: 1.0000 - val_loss: 0.0990 - val_accuracy: 0.9828\n",
            "Epoch 57/80\n",
            "101/101 [==============================] - 20s 193ms/step - loss: 2.3888e-05 - accuracy: 1.0000 - val_loss: 0.0920 - val_accuracy: 0.9828\n",
            "Epoch 58/80\n",
            "101/101 [==============================] - 19s 193ms/step - loss: 9.2780e-06 - accuracy: 1.0000 - val_loss: 0.0912 - val_accuracy: 0.9892\n",
            "Epoch 59/80\n",
            "101/101 [==============================] - 19s 193ms/step - loss: 5.1878e-06 - accuracy: 1.0000 - val_loss: 0.0962 - val_accuracy: 0.9871\n",
            "Epoch 60/80\n",
            "101/101 [==============================] - 19s 193ms/step - loss: 2.7986e-06 - accuracy: 1.0000 - val_loss: 0.1007 - val_accuracy: 0.9871\n",
            "Epoch 61/80\n",
            " 37/101 [=========>....................] - ETA: 11s - loss: 1.9317e-06 - accuracy: 1.0000"
          ],
          "name": "stdout"
        }
      ]
    },
    {
      "cell_type": "markdown",
      "metadata": {
        "id": "MuJMdsUOMJx_"
      },
      "source": [
        "## plotting accuracy and loss of the fine-tuned model"
      ]
    },
    {
      "cell_type": "code",
      "metadata": {
        "id": "wmgzt_UDMRS9",
        "colab": {
          "base_uri": "https://localhost:8080/",
          "height": 513
        },
        "outputId": "26f9094d-980f-413e-aab3-42b06336975a"
      },
      "source": [
        "acc += history_fine.history['accuracy']\n",
        "val_acc += history_fine.history['val_accuracy']\n",
        "\n",
        "loss += history_fine.history['loss']\n",
        "val_loss += history_fine.history['val_loss']\n",
        "\n",
        "initial_epochs = 50\n",
        "plt.figure(figsize=(8, 8))\n",
        "plt.subplot(2, 1, 1)\n",
        "plt.plot(acc, label='Training Accuracy')\n",
        "plt.plot(val_acc, label='Validation Accuracy')\n",
        "plt.ylim([0, 1.5])\n",
        "plt.plot([initial_epochs-1,initial_epochs-1],\n",
        "          plt.ylim(), label='Start Fine Tuning')\n",
        "plt.legend(loc='lower right')\n",
        "plt.title('Training and Validation Accuracy')\n",
        "\n",
        "plt.subplot(2, 1, 2)\n",
        "plt.plot(loss, label='Training Loss')\n",
        "plt.plot(val_loss, label='Validation Loss')\n",
        "plt.plot([initial_epochs-1,initial_epochs-1],\n",
        "         plt.ylim(), label='Start Fine Tuning')\n",
        "plt.legend(loc='upper right')\n",
        "plt.title('Training and Validation Loss')\n",
        "plt.xlabel('epoch')\n",
        "plt.show()"
      ],
      "execution_count": null,
      "outputs": [
        {
          "output_type": "display_data",
          "data": {
            "image/png": "[encoded data removed]",
            "text/plain": [
              "<Figure size 576x576 with 2 Axes>"
            ]
          },
          "metadata": {
            "tags": []
          }
        }
      ]
    },
    {
      "cell_type": "markdown",
      "metadata": {
        "id": "YXUToi-JMgDG"
      },
      "source": [
        "## Removing last layer of new model"
      ]
    },
    {
      "cell_type": "code",
      "metadata": {
        "id": "3Unz2ERHMmNf"
      },
      "source": [
        "inputs = model.input\n",
        "outputs = model.get_layer(name='Bottleneck_BatchNorm').output\n",
        "faceNet_tunned = tf.keras.Model(inputs, outputs,name='Model_tunned')"
      ],
      "execution_count": null,
      "outputs": []
    },
    {
      "cell_type": "code",
      "metadata": {
        "id": "cZqj9MWi3Rda"
      },
      "source": [
        "#faceNet_tunned.save(filepath='/content/drive/My Drive/Projeto/FaceNet_tunned/FaceNet_tunned_GOD_.h5',save_format='h5')"
      ],
      "execution_count": null,
      "outputs": []
    },
    {
      "cell_type": "markdown",
      "metadata": {
        "id": "yzhuGUtTMyPG"
      },
      "source": [
        "#  TESTING MODEL-TUNNED"
      ]
    },
    {
      "cell_type": "markdown",
      "metadata": {
        "id": "v5j1FD00OoVk"
      },
      "source": [
        "## get images embeddings"
      ]
    },
    {
      "cell_type": "code",
      "metadata": {
        "id": "RabV0m8BMxQq"
      },
      "source": [
        "validation_X_embeddings = get_embedding(batch = asarray(validation_X_extracted))\n",
        "training_X_embeddings = get_embedding(batch = asarray(training_X_extracted))\n",
        "test_X_embeddings = get_embedding(batch=asarray(test_X_extracted))"
      ],
      "execution_count": null,
      "outputs": []
    },
    {
      "cell_type": "markdown",
      "metadata": {
        "id": "FqRAjIcdO8et"
      },
      "source": [
        "## testing accuracy o model in comparation task "
      ]
    },
    {
      "cell_type": "code",
      "metadata": {
        "id": "dAPo1A2IO7qf"
      },
      "source": [
        "acertos=0\n",
        "erros=0\n",
        "nao_encontrados=0\n",
        "acertos_arr=[]\n",
        "erros_arr=[]\n",
        "index_teste = 0\n",
        "for teste_emb in tqdm(test_X_embeddings):\n",
        "  min1 = np.inf\n",
        "  index1 = 0\n",
        "  finded=False\n",
        "  aux = 0\n",
        "  for enroll_emb in validation_X_embeddings[:-1]:\n",
        "    result = findCosineSimilarity(teste_emb, enroll_emb)\n",
        "    if result < min1:\n",
        "      finded=True\n",
        "      min1 = result\n",
        "      index1 = aux\n",
        "    aux +=1\n",
        "  if finded:\n",
        "    if (validation_y[index1] == test_y[index_teste]):\n",
        "      acertos += 1\n",
        "      acertos_arr.append((index1,index_teste))\n",
        "    else:\n",
        "      erros +=1\n",
        "      erros_arr.append((index1,index_teste))\n",
        "  else:\n",
        "    nao_encontrados+=1\n",
        "    erros+=1\n",
        "  index_teste += 1 \n",
        "print('\\n')\n",
        "print('accuracy: ')\n",
        "print(acertos/(acertos+erros))"
      ],
      "execution_count": null,
      "outputs": []
    },
    {
      "cell_type": "markdown",
      "metadata": {
        "id": "afUEc5PidCJ4"
      },
      "source": [
        "#MODEL ACCURACY"
      ]
    },
    {
      "cell_type": "code",
      "metadata": {
        "id": "cq13eAYDdHIu"
      },
      "source": [
        "target_emb = get_embedding(pre_processing(enroll_batch))"
      ],
      "execution_count": null,
      "outputs": []
    },
    {
      "cell_type": "code",
      "metadata": {
        "id": "Sn2LW3ujhVyz"
      },
      "source": [
        "def metrics (infered_emb,target_emb,y):\n",
        "    encontrados=[]\n",
        "    index_teste = 0\n",
        "    \n",
        "    for teste_emb in infered_emb:\n",
        "        min1 = 0.5\n",
        "        index1 = 0\n",
        "        finded=False\n",
        "        aux = 0\n",
        "        for enroll_emb in target_emb:\n",
        "            result = findCosineSimilarity(teste_emb, enroll_emb)\n",
        "            if result < min1:\n",
        "                finded=True\n",
        "                min1 = result\n",
        "                index1 = aux\n",
        "            aux +=1\n",
        "        if finded:\n",
        "            encontrados.append(index1)\n",
        "\n",
        "\n",
        "    TP = 0\n",
        "    FP = 0\n",
        "    FN = 0\n",
        "\n",
        "    for i in encontrados:\n",
        "        if i in list(y):\n",
        "            TP += 1\n",
        "        else:\n",
        "            FP += 1\n",
        "\n",
        "\n",
        "    for i in list(y):\n",
        "        if i not in encontrados:\n",
        "            FN += 1\n",
        "\n",
        "        \n",
        "    TN = 67 - (TP + FP + FN)\n",
        "\n",
        "    acc = (TP + TN)  / (TP + FP + TN + FN)\n",
        "    rec = TP / (TP+FN)\n",
        "    prec = TP / (TP + FP)\n",
        "    F1 = 2*(prec*rec/(prec+rec))\n",
        "     \n",
        "    print(f'\\n acuracia: {acc}   recall: {rec}    precision: {prec}  F1 score: {F1}')    \n",
        "    \n",
        "    return acc,rec,prec,F1\n",
        "\n",
        "\n",
        "    "
      ],
      "execution_count": null,
      "outputs": []
    },
    {
      "cell_type": "code",
      "metadata": {
        "id": "10Lf9vXdwJrn",
        "colab": {
          "base_uri": "https://localhost:8080/"
        },
        "outputId": "85a9c65a-f658-4f58-e570-0b5648c04d57"
      },
      "source": [
        "#Comportamento do modelo na base de teste, 7 dias finais.\n",
        "\n",
        "acc =[]\n",
        "rec = []\n",
        "prec = []\n",
        "F1 = []\n",
        "for i in tqdm(range(18,25)):\n",
        "    class_image = import_class_images(class_path='/content/drive/My Drive/redespdi/datasets/DB_Sala/DB/class_photos/D{0:03}'.format(i))\n",
        "    day = data[data['day'] ==i]\n",
        "    y = set(day['identity'])\n",
        "\n",
        "    faces_box = extract_face(class_image)\n",
        "    faces_emb = get_embedding(faces_box)\n",
        "    a,r,p,f1 = metrics(faces_emb,target_emb,y)\n",
        "    acc.append(a)\n",
        "    rec.append(r)\n",
        "    prec.append(p)\n",
        "    F1.append(f1)\n",
        "\n",
        "print('Media acc',(sum(acc)/len(acc)))\n",
        "print('Media rec',(sum(rec)/len(rec)))\n",
        "print('Media prec',(sum(prec)/len(prec)))\n",
        "print('Media F1 score',(sum(F1)/len(F1)))"
      ],
      "execution_count": null,
      "outputs": [
        {
          "output_type": "stream",
          "text": [
            " 14%|█▍        | 1/7 [00:28<02:48, 28.15s/it]"
          ],
          "name": "stderr"
        },
        {
          "output_type": "stream",
          "text": [
            "\n",
            " acuracia: 1.0   recall: 1.0    precision: 1.0  F1 score: 1.0\n"
          ],
          "name": "stdout"
        },
        {
          "output_type": "stream",
          "text": [
            "\r 29%|██▊       | 2/7 [00:53<02:16, 27.36s/it]"
          ],
          "name": "stderr"
        },
        {
          "output_type": "stream",
          "text": [
            "\n",
            " acuracia: 1.0   recall: 1.0    precision: 1.0  F1 score: 1.0\n"
          ],
          "name": "stdout"
        },
        {
          "output_type": "stream",
          "text": [
            "\r 43%|████▎     | 3/7 [01:16<01:44, 26.12s/it]"
          ],
          "name": "stderr"
        },
        {
          "output_type": "stream",
          "text": [
            "\n",
            " acuracia: 1.0   recall: 1.0    precision: 1.0  F1 score: 1.0\n"
          ],
          "name": "stdout"
        },
        {
          "output_type": "stream",
          "text": [
            "/usr/local/lib/python3.7/dist-packages/numpy/core/_asarray.py:83: VisibleDeprecationWarning: Creating an ndarray from ragged nested sequences (which is a list-or-tuple of lists-or-tuples-or ndarrays with different lengths or shapes) is deprecated. If you meant to do this, you must specify 'dtype=object' when creating the ndarray\n",
            "  return array(a, dtype, copy=False, order=order)\n",
            " 57%|█████▋    | 4/7 [02:02<01:35, 31.98s/it]"
          ],
          "name": "stderr"
        },
        {
          "output_type": "stream",
          "text": [
            "\n",
            " acuracia: 0.9850746268656716   recall: 0.9953488372093023    precision: 1.0  F1 score: 0.9976689976689977\n"
          ],
          "name": "stdout"
        },
        {
          "output_type": "stream",
          "text": [
            "\r 71%|███████▏  | 5/7 [02:32<01:03, 31.52s/it]"
          ],
          "name": "stderr"
        },
        {
          "output_type": "stream",
          "text": [
            "\n",
            " acuracia: 0.9850746268656716   recall: 0.9925925925925926    precision: 1.0  F1 score: 0.996282527881041\n"
          ],
          "name": "stdout"
        },
        {
          "output_type": "stream",
          "text": [
            "\r 86%|████████▌ | 6/7 [03:04<00:31, 31.49s/it]"
          ],
          "name": "stderr"
        },
        {
          "output_type": "stream",
          "text": [
            "\n",
            " acuracia: 0.9701492537313433   recall: 0.9852941176470589    precision: 1.0  F1 score: 0.9925925925925926\n"
          ],
          "name": "stdout"
        },
        {
          "output_type": "stream",
          "text": [
            "/usr/local/lib/python3.7/dist-packages/numpy/core/_asarray.py:83: VisibleDeprecationWarning: Creating an ndarray from ragged nested sequences (which is a list-or-tuple of lists-or-tuples-or ndarrays with different lengths or shapes) is deprecated. If you meant to do this, you must specify 'dtype=object' when creating the ndarray\n",
            "  return array(a, dtype, copy=False, order=order)\n",
            "100%|██████████| 7/7 [03:57<00:00, 33.97s/it]"
          ],
          "name": "stderr"
        },
        {
          "output_type": "stream",
          "text": [
            "\n",
            " acuracia: 0.9701492537313433   recall: 0.9954954954954955    precision: 0.9954954954954955  F1 score: 0.9954954954954955\n",
            "Media acc 0.9872068230277186\n",
            "Media rec 0.9955330061349212\n",
            "Media prec 0.9993564993564993\n",
            "Media F1 score 0.9974342305197323\n"
          ],
          "name": "stdout"
        },
        {
          "output_type": "stream",
          "text": [
            "\n"
          ],
          "name": "stderr"
        }
      ]
    }
  ]
}